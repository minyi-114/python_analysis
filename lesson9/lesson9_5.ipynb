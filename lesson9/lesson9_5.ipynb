{
 "cells": [
  {
   "cell_type": "code",
   "execution_count": 1,
   "metadata": {},
   "outputs": [
    {
     "data": {
      "text/html": [
       "<div>\n",
       "<style scoped>\n",
       "    .dataframe tbody tr th:only-of-type {\n",
       "        vertical-align: middle;\n",
       "    }\n",
       "\n",
       "    .dataframe tbody tr th {\n",
       "        vertical-align: top;\n",
       "    }\n",
       "\n",
       "    .dataframe thead th {\n",
       "        text-align: right;\n",
       "    }\n",
       "</style>\n",
       "<table border=\"1\" class=\"dataframe\">\n",
       "  <thead>\n",
       "    <tr style=\"text-align: right;\">\n",
       "      <th></th>\n",
       "      <th>strings</th>\n",
       "      <th>ints</th>\n",
       "      <th>floats</th>\n",
       "    </tr>\n",
       "  </thead>\n",
       "  <tbody>\n",
       "    <tr>\n",
       "      <th>0</th>\n",
       "      <td>Adam</td>\n",
       "      <td>1</td>\n",
       "      <td>1.123</td>\n",
       "    </tr>\n",
       "    <tr>\n",
       "      <th>1</th>\n",
       "      <td>Mike</td>\n",
       "      <td>3</td>\n",
       "      <td>1000.230</td>\n",
       "    </tr>\n",
       "  </tbody>\n",
       "</table>\n",
       "</div>"
      ],
      "text/plain": [
       "  strings  ints    floats\n",
       "0    Adam     1     1.123\n",
       "1    Mike     3  1000.230"
      ]
     },
     "execution_count": 1,
     "metadata": {},
     "output_type": "execute_result"
    }
   ],
   "source": [
    "import pandas as pd\n",
    "import numpy as np\n",
    "import matplotlib as mpl\n",
    "\n",
    "df = pd.DataFrame({\n",
    "    \"strings\": [\"Adam\", \"Mike\"],\n",
    "    \"ints\": [1, 3],\n",
    "    \"floats\": [1.123, 1000.23]\n",
    "})\n",
    "df"
   ]
  },
  {
   "cell_type": "code",
   "execution_count": 5,
   "metadata": {},
   "outputs": [
    {
     "name": "stdout",
     "output_type": "stream",
     "text": [
      "Collecting jinja2\n",
      "  Downloading jinja2-3.1.6-py3-none-any.whl.metadata (2.9 kB)\n",
      "Collecting MarkupSafe>=2.0 (from jinja2)\n",
      "  Downloading MarkupSafe-3.0.2-cp312-cp312-win_amd64.whl.metadata (4.1 kB)\n",
      "Downloading jinja2-3.1.6-py3-none-any.whl (134 kB)\n",
      "Downloading MarkupSafe-3.0.2-cp312-cp312-win_amd64.whl (15 kB)\n",
      "Installing collected packages: MarkupSafe, jinja2\n",
      "Successfully installed MarkupSafe-3.0.2 jinja2-3.1.6\n"
     ]
    }
   ],
   "source": [
    "!pip install jinja2"
   ]
  },
  {
   "cell_type": "code",
   "execution_count": null,
   "metadata": {},
   "outputs": [
    {
     "data": {
      "text/html": [
       "<style type=\"text/css\">\n",
       "</style>\n",
       "<table id=\"T_f577d\">\n",
       "  <thead>\n",
       "    <tr>\n",
       "      <th class=\"blank level0\" >&nbsp;</th>\n",
       "      <th id=\"T_f577d_level0_col0\" class=\"col_heading level0 col0\" >STRINGS</th>\n",
       "      <th id=\"T_f577d_level0_col1\" class=\"col_heading level0 col1\" >INTS</th>\n",
       "      <th id=\"T_f577d_level0_col2\" class=\"col_heading level0 col2\" >FLOATS</th>\n",
       "    </tr>\n",
       "  </thead>\n",
       "  <tbody>\n",
       "    <tr>\n",
       "      <th id=\"T_f577d_level0_row0\" class=\"row_heading level0 row0\" >row1</th>\n",
       "      <td id=\"T_f577d_row0_col0\" class=\"data row0 col0\" >Adam</td>\n",
       "      <td id=\"T_f577d_row0_col1\" class=\"data row0 col1\" >1</td>\n",
       "      <td id=\"T_f577d_row0_col2\" class=\"data row0 col2\" >1.12</td>\n",
       "    </tr>\n",
       "    <tr>\n",
       "      <th id=\"T_f577d_level0_row1\" class=\"row_heading level0 row1\" >row2</th>\n",
       "      <td id=\"T_f577d_row1_col0\" class=\"data row1 col0\" >Mike</td>\n",
       "      <td id=\"T_f577d_row1_col1\" class=\"data row1 col1\" >3</td>\n",
       "      <td id=\"T_f577d_row1_col2\" class=\"data row1 col2\" >1,000.23</td>\n",
       "    </tr>\n",
       "  </tbody>\n",
       "</table>\n"
      ],
      "text/plain": [
       "<pandas.io.formats.style.Styler at 0x18932909460>"
      ]
     },
     "execution_count": 9,
     "metadata": {},
     "output_type": "execute_result"
    }
   ],
   "source": [
    "#用\"\\\"表示換行，使指令更易讀，但不是必要的\n",
    "df.style\\\n",
    ".format(precision=2, thousands=\",\", decimal=\".\")\\\n",
    ".format_index(axis=1, formatter = str.upper)\\\n",
    ".relabel_index([\"row1\", \"row2\"], axis=0)"
   ]
  },
  {
   "cell_type": "code",
   "execution_count": 10,
   "metadata": {},
   "outputs": [
    {
     "data": {
      "text/html": [
       "<div>\n",
       "<style scoped>\n",
       "    .dataframe tbody tr th:only-of-type {\n",
       "        vertical-align: middle;\n",
       "    }\n",
       "\n",
       "    .dataframe tbody tr th {\n",
       "        vertical-align: top;\n",
       "    }\n",
       "\n",
       "    .dataframe thead th {\n",
       "        text-align: right;\n",
       "    }\n",
       "</style>\n",
       "<table border=\"1\" class=\"dataframe\">\n",
       "  <thead>\n",
       "    <tr style=\"text-align: right;\">\n",
       "      <th></th>\n",
       "      <th>A</th>\n",
       "      <th>B</th>\n",
       "      <th>C</th>\n",
       "      <th>D</th>\n",
       "      <th>E</th>\n",
       "    </tr>\n",
       "  </thead>\n",
       "  <tbody>\n",
       "    <tr>\n",
       "      <th>0</th>\n",
       "      <td>1234.5678</td>\n",
       "      <td>0.1234</td>\n",
       "      <td>蘋果</td>\n",
       "      <td>2023-10-26</td>\n",
       "      <td>NaN</td>\n",
       "    </tr>\n",
       "    <tr>\n",
       "      <th>1</th>\n",
       "      <td>9876.5432</td>\n",
       "      <td>0.5678</td>\n",
       "      <td>香蕉</td>\n",
       "      <td>2023-10-27</td>\n",
       "      <td>1.0</td>\n",
       "    </tr>\n",
       "    <tr>\n",
       "      <th>2</th>\n",
       "      <td>10000.0000</td>\n",
       "      <td>0.9999</td>\n",
       "      <td>櫻桃</td>\n",
       "      <td>2023-10-28</td>\n",
       "      <td>2.0</td>\n",
       "    </tr>\n",
       "  </tbody>\n",
       "</table>\n",
       "</div>"
      ],
      "text/plain": [
       "            A       B   C          D    E\n",
       "0   1234.5678  0.1234  蘋果 2023-10-26  NaN\n",
       "1   9876.5432  0.5678  香蕉 2023-10-27  1.0\n",
       "2  10000.0000  0.9999  櫻桃 2023-10-28  2.0"
      ]
     },
     "execution_count": 10,
     "metadata": {},
     "output_type": "execute_result"
    }
   ],
   "source": [
    "import pandas as pd\n",
    "import numpy as np\n",
    "\n",
    "# 範例 DataFrame\n",
    "data = {\n",
    "    'A': [1234.5678, 9876.5432, 10000.00],\n",
    "    'B': [0.1234, 0.5678, 0.9999],\n",
    "    'C': ['蘋果', '香蕉', '櫻桃'],\n",
    "    'D': pd.to_datetime(['2023-10-26', '2023-10-27', '2023-10-28']),\n",
    "    'E': [np.nan, 1, 2]\n",
    "}\n",
    "df = pd.DataFrame(data)\n",
    "df"
   ]
  },
  {
   "cell_type": "code",
   "execution_count": 11,
   "metadata": {},
   "outputs": [
    {
     "data": {
      "text/html": [
       "<style type=\"text/css\">\n",
       "</style>\n",
       "<table id=\"T_e54f4\">\n",
       "  <thead>\n",
       "    <tr>\n",
       "      <th class=\"blank level0\" >&nbsp;</th>\n",
       "      <th id=\"T_e54f4_level0_col0\" class=\"col_heading level0 col0\" >A</th>\n",
       "      <th id=\"T_e54f4_level0_col1\" class=\"col_heading level0 col1\" >B</th>\n",
       "      <th id=\"T_e54f4_level0_col2\" class=\"col_heading level0 col2\" >C</th>\n",
       "      <th id=\"T_e54f4_level0_col3\" class=\"col_heading level0 col3\" >D</th>\n",
       "      <th id=\"T_e54f4_level0_col4\" class=\"col_heading level0 col4\" >E</th>\n",
       "    </tr>\n",
       "  </thead>\n",
       "  <tbody>\n",
       "    <tr>\n",
       "      <th id=\"T_e54f4_level0_row0\" class=\"row_heading level0 row0\" >0</th>\n",
       "      <td id=\"T_e54f4_row0_col0\" class=\"data row0 col0\" >1234.57</td>\n",
       "      <td id=\"T_e54f4_row0_col1\" class=\"data row0 col1\" >0.12</td>\n",
       "      <td id=\"T_e54f4_row0_col2\" class=\"data row0 col2\" >蘋果</td>\n",
       "      <td id=\"T_e54f4_row0_col3\" class=\"data row0 col3\" >2023-10-26 00:00:00</td>\n",
       "      <td id=\"T_e54f4_row0_col4\" class=\"data row0 col4\" >nan</td>\n",
       "    </tr>\n",
       "    <tr>\n",
       "      <th id=\"T_e54f4_level0_row1\" class=\"row_heading level0 row1\" >1</th>\n",
       "      <td id=\"T_e54f4_row1_col0\" class=\"data row1 col0\" >9876.54</td>\n",
       "      <td id=\"T_e54f4_row1_col1\" class=\"data row1 col1\" >0.57</td>\n",
       "      <td id=\"T_e54f4_row1_col2\" class=\"data row1 col2\" >香蕉</td>\n",
       "      <td id=\"T_e54f4_row1_col3\" class=\"data row1 col3\" >2023-10-27 00:00:00</td>\n",
       "      <td id=\"T_e54f4_row1_col4\" class=\"data row1 col4\" >1.000000</td>\n",
       "    </tr>\n",
       "    <tr>\n",
       "      <th id=\"T_e54f4_level0_row2\" class=\"row_heading level0 row2\" >2</th>\n",
       "      <td id=\"T_e54f4_row2_col0\" class=\"data row2 col0\" >10000.00</td>\n",
       "      <td id=\"T_e54f4_row2_col1\" class=\"data row2 col1\" >1.00</td>\n",
       "      <td id=\"T_e54f4_row2_col2\" class=\"data row2 col2\" >櫻桃</td>\n",
       "      <td id=\"T_e54f4_row2_col3\" class=\"data row2 col3\" >2023-10-28 00:00:00</td>\n",
       "      <td id=\"T_e54f4_row2_col4\" class=\"data row2 col4\" >2.000000</td>\n",
       "    </tr>\n",
       "  </tbody>\n",
       "</table>\n"
      ],
      "text/plain": [
       "<pandas.io.formats.style.Styler at 0x189323cc4d0>"
      ]
     },
     "execution_count": 11,
     "metadata": {},
     "output_type": "execute_result"
    }
   ],
   "source": [
    "styled_df1 = df.style.format(\"{:.2f}\",subset=['A','B'])\n",
    "styled_df1"
   ]
  },
  {
   "cell_type": "code",
   "execution_count": 21,
   "metadata": {},
   "outputs": [
    {
     "data": {
      "text/html": [
       "<style type=\"text/css\">\n",
       "</style>\n",
       "<table id=\"T_2975e\">\n",
       "  <caption>Weather Conditions</caption>\n",
       "  <thead>\n",
       "    <tr>\n",
       "      <th class=\"blank level0\" >&nbsp;</th>\n",
       "      <th id=\"T_2975e_level0_col0\" class=\"col_heading level0 col0\" >Tokyo</th>\n",
       "      <th id=\"T_2975e_level0_col1\" class=\"col_heading level0 col1\" >Taipei</th>\n",
       "    </tr>\n",
       "  </thead>\n",
       "  <tbody>\n",
       "    <tr>\n",
       "      <th id=\"T_2975e_level0_row0\" class=\"row_heading level0 row0\" >2021-01-01 00:00:00</th>\n",
       "      <td id=\"T_2975e_row0_col0\" class=\"data row0 col0\" >0.859983</td>\n",
       "      <td id=\"T_2975e_row0_col1\" class=\"data row0 col1\" >1.242901</td>\n",
       "    </tr>\n",
       "    <tr>\n",
       "      <th id=\"T_2975e_level0_row1\" class=\"row_heading level0 row1\" >2021-01-02 00:00:00</th>\n",
       "      <td id=\"T_2975e_row1_col0\" class=\"data row1 col0\" >1.403220</td>\n",
       "      <td id=\"T_2975e_row1_col1\" class=\"data row1 col1\" >1.610136</td>\n",
       "    </tr>\n",
       "    <tr>\n",
       "      <th id=\"T_2975e_level0_row2\" class=\"row_heading level0 row2\" >2021-01-03 00:00:00</th>\n",
       "      <td id=\"T_2975e_row2_col0\" class=\"data row2 col0\" >0.931852</td>\n",
       "      <td id=\"T_2975e_row2_col1\" class=\"data row2 col1\" >4.432595</td>\n",
       "    </tr>\n",
       "    <tr>\n",
       "      <th id=\"T_2975e_level0_row3\" class=\"row_heading level0 row3\" >2021-01-04 00:00:00</th>\n",
       "      <td id=\"T_2975e_row3_col0\" class=\"data row3 col0\" >1.426241</td>\n",
       "      <td id=\"T_2975e_row3_col1\" class=\"data row3 col1\" >1.530108</td>\n",
       "    </tr>\n",
       "    <tr>\n",
       "      <th id=\"T_2975e_level0_row4\" class=\"row_heading level0 row4\" >2021-01-05 00:00:00</th>\n",
       "      <td id=\"T_2975e_row4_col0\" class=\"data row4 col0\" >4.424705</td>\n",
       "      <td id=\"T_2975e_row4_col1\" class=\"data row4 col1\" >4.834441</td>\n",
       "    </tr>\n",
       "    <tr>\n",
       "      <th id=\"T_2975e_level0_row5\" class=\"row_heading level0 row5\" >2021-01-06 00:00:00</th>\n",
       "      <td id=\"T_2975e_row5_col0\" class=\"data row5 col0\" >2.366656</td>\n",
       "      <td id=\"T_2975e_row5_col1\" class=\"data row5 col1\" >4.371350</td>\n",
       "    </tr>\n",
       "    <tr>\n",
       "      <th id=\"T_2975e_level0_row6\" class=\"row_heading level0 row6\" >2021-01-07 00:00:00</th>\n",
       "      <td id=\"T_2975e_row6_col0\" class=\"data row6 col0\" >3.455519</td>\n",
       "      <td id=\"T_2975e_row6_col1\" class=\"data row6 col1\" >2.550391</td>\n",
       "    </tr>\n",
       "    <tr>\n",
       "      <th id=\"T_2975e_level0_row7\" class=\"row_heading level0 row7\" >2021-01-08 00:00:00</th>\n",
       "      <td id=\"T_2975e_row7_col0\" class=\"data row7 col0\" >4.566687</td>\n",
       "      <td id=\"T_2975e_row7_col1\" class=\"data row7 col1\" >0.692918</td>\n",
       "    </tr>\n",
       "    <tr>\n",
       "      <th id=\"T_2975e_level0_row8\" class=\"row_heading level0 row8\" >2021-01-09 00:00:00</th>\n",
       "      <td id=\"T_2975e_row8_col0\" class=\"data row8 col0\" >2.710718</td>\n",
       "      <td id=\"T_2975e_row8_col1\" class=\"data row8 col1\" >4.867510</td>\n",
       "    </tr>\n",
       "    <tr>\n",
       "      <th id=\"T_2975e_level0_row9\" class=\"row_heading level0 row9\" >2021-01-10 00:00:00</th>\n",
       "      <td id=\"T_2975e_row9_col0\" class=\"data row9 col0\" >4.182936</td>\n",
       "      <td id=\"T_2975e_row9_col1\" class=\"data row9 col1\" >2.374409</td>\n",
       "    </tr>\n",
       "  </tbody>\n",
       "</table>\n"
      ],
      "text/plain": [
       "<pandas.io.formats.style.Styler at 0x189323cdb20>"
      ]
     },
     "execution_count": 21,
     "metadata": {},
     "output_type": "execute_result"
    }
   ],
   "source": [
    "weather_df = pd.DataFrame(np.random.rand(10,2)*5,\n",
    "                          index=pd.date_range(start='2021-01-01', periods=10),\n",
    "                          columns = [\"Tokyo\", \"Taipei\"])\n",
    "weather_df.style.set_caption(\"Weather Conditions\")  # 設定標題"
   ]
  },
  {
   "cell_type": "code",
   "execution_count": 26,
   "metadata": {},
   "outputs": [],
   "source": [
    "weather_df.style\\\n",
    ".set_caption(\"Weather Conditions\")\\\n",
    ".background_gradient(axis=None,vmin=1,vmax=5,cmap='PuBuGn')\\\n",
    ".to_excel('test1.xlsx')  \n",
    "# 設定標題及背景顏色，並將結果輸出成 Excel 檔案\n",
    "# axis=None 表示整個 DataFrame，vmin=1, vmax=5 表示顏色的範圍，cmap='PuBuGn' 表示顏色的選擇\n",
    "# 輸出的 Excel 檔案名稱為 test1.xlsx"
   ]
  },
  {
   "cell_type": "code",
   "execution_count": 29,
   "metadata": {},
   "outputs": [
    {
     "data": {
      "text/html": [
       "<style type=\"text/css\">\n",
       "#T_1f93f_row0_col0, #T_1f93f_row2_col0 {\n",
       "  background-color: #f7fcfd;\n",
       "  color: #000000;\n",
       "}\n",
       "#T_1f93f_row1_col0 {\n",
       "  background-color: #e5eff6;\n",
       "  color: #000000;\n",
       "}\n",
       "#T_1f93f_row3_col0 {\n",
       "  background-color: #e4eef5;\n",
       "  color: #000000;\n",
       "}\n",
       "#T_1f93f_row4_col0 {\n",
       "  background-color: #821580;\n",
       "  color: #f1f1f1;\n",
       "}\n",
       "#T_1f93f_row5_col0 {\n",
       "  background-color: #a7c2dd;\n",
       "  color: #000000;\n",
       "}\n",
       "#T_1f93f_row6_col0 {\n",
       "  background-color: #8c6eb3;\n",
       "  color: #f1f1f1;\n",
       "}\n",
       "#T_1f93f_row7_col0 {\n",
       "  background-color: #790d75;\n",
       "  color: #f1f1f1;\n",
       "}\n",
       "#T_1f93f_row8_col0 {\n",
       "  background-color: #96acd2;\n",
       "  color: #f1f1f1;\n",
       "}\n",
       "#T_1f93f_row9_col0 {\n",
       "  background-color: #852f91;\n",
       "  color: #f1f1f1;\n",
       "}\n",
       "</style>\n",
       "<table id=\"T_1f93f\">\n",
       "  <caption>Weather Conditions</caption>\n",
       "  <thead>\n",
       "    <tr>\n",
       "      <th class=\"blank level0\" >&nbsp;</th>\n",
       "      <th id=\"T_1f93f_level0_col0\" class=\"col_heading level0 col0\" >Tokyo</th>\n",
       "      <th id=\"T_1f93f_level0_col1\" class=\"col_heading level0 col1\" >Taipei</th>\n",
       "    </tr>\n",
       "  </thead>\n",
       "  <tbody>\n",
       "    <tr>\n",
       "      <th id=\"T_1f93f_level0_row0\" class=\"row_heading level0 row0\" >2021-01-01 00:00:00</th>\n",
       "      <td id=\"T_1f93f_row0_col0\" class=\"data row0 col0\" >0.859983</td>\n",
       "      <td id=\"T_1f93f_row0_col1\" class=\"data row0 col1\" >1.242901</td>\n",
       "    </tr>\n",
       "    <tr>\n",
       "      <th id=\"T_1f93f_level0_row1\" class=\"row_heading level0 row1\" >2021-01-02 00:00:00</th>\n",
       "      <td id=\"T_1f93f_row1_col0\" class=\"data row1 col0\" >1.403220</td>\n",
       "      <td id=\"T_1f93f_row1_col1\" class=\"data row1 col1\" >1.610136</td>\n",
       "    </tr>\n",
       "    <tr>\n",
       "      <th id=\"T_1f93f_level0_row2\" class=\"row_heading level0 row2\" >2021-01-03 00:00:00</th>\n",
       "      <td id=\"T_1f93f_row2_col0\" class=\"data row2 col0\" >0.931852</td>\n",
       "      <td id=\"T_1f93f_row2_col1\" class=\"data row2 col1\" >4.432595</td>\n",
       "    </tr>\n",
       "    <tr>\n",
       "      <th id=\"T_1f93f_level0_row3\" class=\"row_heading level0 row3\" >2021-01-04 00:00:00</th>\n",
       "      <td id=\"T_1f93f_row3_col0\" class=\"data row3 col0\" >1.426241</td>\n",
       "      <td id=\"T_1f93f_row3_col1\" class=\"data row3 col1\" >1.530108</td>\n",
       "    </tr>\n",
       "    <tr>\n",
       "      <th id=\"T_1f93f_level0_row4\" class=\"row_heading level0 row4\" >2021-01-05 00:00:00</th>\n",
       "      <td id=\"T_1f93f_row4_col0\" class=\"data row4 col0\" >4.424705</td>\n",
       "      <td id=\"T_1f93f_row4_col1\" class=\"data row4 col1\" >4.834441</td>\n",
       "    </tr>\n",
       "    <tr>\n",
       "      <th id=\"T_1f93f_level0_row5\" class=\"row_heading level0 row5\" >2021-01-06 00:00:00</th>\n",
       "      <td id=\"T_1f93f_row5_col0\" class=\"data row5 col0\" >2.366656</td>\n",
       "      <td id=\"T_1f93f_row5_col1\" class=\"data row5 col1\" >4.371350</td>\n",
       "    </tr>\n",
       "    <tr>\n",
       "      <th id=\"T_1f93f_level0_row6\" class=\"row_heading level0 row6\" >2021-01-07 00:00:00</th>\n",
       "      <td id=\"T_1f93f_row6_col0\" class=\"data row6 col0\" >3.455519</td>\n",
       "      <td id=\"T_1f93f_row6_col1\" class=\"data row6 col1\" >2.550391</td>\n",
       "    </tr>\n",
       "    <tr>\n",
       "      <th id=\"T_1f93f_level0_row7\" class=\"row_heading level0 row7\" >2021-01-08 00:00:00</th>\n",
       "      <td id=\"T_1f93f_row7_col0\" class=\"data row7 col0\" >4.566687</td>\n",
       "      <td id=\"T_1f93f_row7_col1\" class=\"data row7 col1\" >0.692918</td>\n",
       "    </tr>\n",
       "    <tr>\n",
       "      <th id=\"T_1f93f_level0_row8\" class=\"row_heading level0 row8\" >2021-01-09 00:00:00</th>\n",
       "      <td id=\"T_1f93f_row8_col0\" class=\"data row8 col0\" >2.710718</td>\n",
       "      <td id=\"T_1f93f_row8_col1\" class=\"data row8 col1\" >4.867510</td>\n",
       "    </tr>\n",
       "    <tr>\n",
       "      <th id=\"T_1f93f_level0_row9\" class=\"row_heading level0 row9\" >2021-01-10 00:00:00</th>\n",
       "      <td id=\"T_1f93f_row9_col0\" class=\"data row9 col0\" >4.182936</td>\n",
       "      <td id=\"T_1f93f_row9_col1\" class=\"data row9 col1\" >2.374409</td>\n",
       "    </tr>\n",
       "  </tbody>\n",
       "</table>\n"
      ],
      "text/plain": [
       "<pandas.io.formats.style.Styler at 0x1893291ee70>"
      ]
     },
     "execution_count": 29,
     "metadata": {},
     "output_type": "execute_result"
    }
   ],
   "source": [
    "weather_df.style\\\n",
    ".set_caption(\"Weather Conditions\")\\\n",
    ".background_gradient(subset=['Tokyo'],vmin=1,vmax=5,cmap='BuPu')\n",
    "# 設定標題，並設定指定欄的背景顏色"
   ]
  }
 ],
 "metadata": {
  "kernelspec": {
   "display_name": "base",
   "language": "python",
   "name": "python3"
  },
  "language_info": {
   "codemirror_mode": {
    "name": "ipython",
    "version": 3
   },
   "file_extension": ".py",
   "mimetype": "text/x-python",
   "name": "python",
   "nbconvert_exporter": "python",
   "pygments_lexer": "ipython3",
   "version": "3.12.9"
  }
 },
 "nbformat": 4,
 "nbformat_minor": 2
}
