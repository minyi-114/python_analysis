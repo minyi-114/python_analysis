{
 "cells": [
  {
   "cell_type": "code",
   "execution_count": 12,
   "metadata": {},
   "outputs": [
    {
     "name": "stdout",
     "output_type": "stream",
     "text": [
      "<class 'pandas.core.frame.DataFrame'>\n",
      "RangeIndex: 4 entries, 0 to 3\n",
      "Data columns (total 3 columns):\n",
      " #   Column  Non-Null Count  Dtype  \n",
      "---  ------  --------------  -----  \n",
      " 0   A       3 non-null      float64\n",
      " 1   B       3 non-null      float64\n",
      " 2   C       3 non-null      float64\n",
      "dtypes: float64(3)\n",
      "memory usage: 228.0 bytes\n"
     ]
    },
    {
     "data": {
      "text/html": [
       "<div>\n",
       "<style scoped>\n",
       "    .dataframe tbody tr th:only-of-type {\n",
       "        vertical-align: middle;\n",
       "    }\n",
       "\n",
       "    .dataframe tbody tr th {\n",
       "        vertical-align: top;\n",
       "    }\n",
       "\n",
       "    .dataframe thead th {\n",
       "        text-align: right;\n",
       "    }\n",
       "</style>\n",
       "<table border=\"1\" class=\"dataframe\">\n",
       "  <thead>\n",
       "    <tr style=\"text-align: right;\">\n",
       "      <th></th>\n",
       "      <th>A</th>\n",
       "      <th>B</th>\n",
       "      <th>C</th>\n",
       "    </tr>\n",
       "  </thead>\n",
       "  <tbody>\n",
       "    <tr>\n",
       "      <th>0</th>\n",
       "      <td>1.0</td>\n",
       "      <td>NaN</td>\n",
       "      <td>1.0</td>\n",
       "    </tr>\n",
       "    <tr>\n",
       "      <th>1</th>\n",
       "      <td>2.0</td>\n",
       "      <td>2.0</td>\n",
       "      <td>NaN</td>\n",
       "    </tr>\n",
       "    <tr>\n",
       "      <th>2</th>\n",
       "      <td>NaN</td>\n",
       "      <td>3.0</td>\n",
       "      <td>3.0</td>\n",
       "    </tr>\n",
       "    <tr>\n",
       "      <th>3</th>\n",
       "      <td>4.0</td>\n",
       "      <td>4.0</td>\n",
       "      <td>4.0</td>\n",
       "    </tr>\n",
       "  </tbody>\n",
       "</table>\n",
       "</div>"
      ],
      "text/plain": [
       "     A    B    C\n",
       "0  1.0  NaN  1.0\n",
       "1  2.0  2.0  NaN\n",
       "2  NaN  3.0  3.0\n",
       "3  4.0  4.0  4.0"
      ]
     },
     "execution_count": 12,
     "metadata": {},
     "output_type": "execute_result"
    }
   ],
   "source": [
    "import pandas as pd\n",
    "\n",
    "# 假設你有一個 DataFrame 叫做 df\n",
    "# 這裡是一個範例 DataFrame\n",
    "data = {\n",
    "    'A': [1, 2, None, 4],\n",
    "    'B': [None, 2, 3, 4],\n",
    "    'C': [1, None, 3, 4]\n",
    "}\n",
    "df = pd.DataFrame(data)\n",
    "df.info()\n",
    "df"
   ]
  },
  {
   "cell_type": "code",
   "execution_count": 4,
   "metadata": {},
   "outputs": [
    {
     "data": {
      "text/html": [
       "<div>\n",
       "<style scoped>\n",
       "    .dataframe tbody tr th:only-of-type {\n",
       "        vertical-align: middle;\n",
       "    }\n",
       "\n",
       "    .dataframe tbody tr th {\n",
       "        vertical-align: top;\n",
       "    }\n",
       "\n",
       "    .dataframe thead th {\n",
       "        text-align: right;\n",
       "    }\n",
       "</style>\n",
       "<table border=\"1\" class=\"dataframe\">\n",
       "  <thead>\n",
       "    <tr style=\"text-align: right;\">\n",
       "      <th></th>\n",
       "      <th>A</th>\n",
       "      <th>B</th>\n",
       "      <th>C</th>\n",
       "    </tr>\n",
       "  </thead>\n",
       "  <tbody>\n",
       "    <tr>\n",
       "      <th>3</th>\n",
       "      <td>4.0</td>\n",
       "      <td>4.0</td>\n",
       "      <td>4.0</td>\n",
       "    </tr>\n",
       "  </tbody>\n",
       "</table>\n",
       "</div>"
      ],
      "text/plain": [
       "     A    B    C\n",
       "3  4.0  4.0  4.0"
      ]
     },
     "execution_count": 4,
     "metadata": {},
     "output_type": "execute_result"
    }
   ],
   "source": [
    "# 刪除包含 NaN 值的列\n",
    "df_cleaned = df.dropna()\n",
    "df_cleaned"
   ]
  },
  {
   "cell_type": "code",
   "execution_count": 15,
   "metadata": {},
   "outputs": [
    {
     "name": "stdout",
     "output_type": "stream",
     "text": [
      "     A    B    C\n",
      "3  4.0  4.0  4.0\n"
     ]
    }
   ],
   "source": [
    "import pandas as pd\n",
    "\n",
    "# 假設你有一個 DataFrame 叫做 df\n",
    "# 這裡是一個範例 DataFrame\n",
    "data = {\n",
    "    'A': [1, 2, None, 4],\n",
    "    'B': [None, 2, 3, 4],\n",
    "    'C': [1, None, 3, 4]\n",
    "}\n",
    "df = pd.DataFrame(data)\n",
    "\n",
    "# 刪除包含 NaN 值的列\n",
    "df_cleaned = df.dropna()\n",
    "\n",
    "# 如果你想刪除包含 NaN 值的欄位，可以使用以下方法\n",
    "# df_cleaned = df.dropna(axis=1) # axis=1 表示刪除欄位 (column)\n",
    "# how='any' 表示只要有 NaN 值就刪除該列或欄位\n",
    "# how='all' 表示全部都是 NaN 值才刪除該列或欄位\n",
    "\n",
    "print(df_cleaned)"
   ]
  },
  {
   "cell_type": "code",
   "execution_count": 7,
   "metadata": {},
   "outputs": [
    {
     "name": "stdout",
     "output_type": "stream",
     "text": [
      "\n",
      "原始 DataFrame2：\n",
      "   col1 col2  col3\n",
      "0   1.0    a   1.1\n",
      "1   2.0  NaN   2.2\n",
      "2   NaN  NaN   NaN\n",
      "3   4.0    d   NaN\n"
     ]
    }
   ],
   "source": [
    "import numpy as np\n",
    "\n",
    "# 只有當該列的所有值都是 NaN 時，才刪除該列\n",
    "data2 = {'col1': [1, 2, np.nan, 4], \n",
    "        'col2': ['a', np.nan, np.nan, 'd'], \n",
    "        'col3': [1.1, 2.2, np.nan, np.nan]}\n",
    "df2 = pd.DataFrame(data2)\n",
    "print(\"\\n原始 DataFrame2：\")\n",
    "print(df2)"
   ]
  },
  {
   "cell_type": "code",
   "execution_count": null,
   "metadata": {},
   "outputs": [
    {
     "name": "stdout",
     "output_type": "stream",
     "text": [
      "\n",
      "刪除所有值都是 NaN 的列後的 DataFrame2：\n",
      "   col1 col2  col3\n",
      "0   1.0    a   1.1\n",
      "1   2.0  NaN   2.2\n",
      "3   4.0    d   NaN\n"
     ]
    }
   ],
   "source": [
    "df2_cleaned = df2.dropna(how='all') # how='all' 表示只刪除所有值都是 NaN 的列\n",
    "print(\"\\n刪除所有值都是 NaN 的列後的 DataFrame2：\")\n",
    "print(df2_cleaned)"
   ]
  },
  {
   "cell_type": "code",
   "execution_count": 9,
   "metadata": {},
   "outputs": [
    {
     "name": "stdout",
     "output_type": "stream",
     "text": [
      "\n",
      "原始 DataFrame3：\n",
      "   col1 col2  col3\n",
      "0   1.0    a   1.1\n",
      "1   2.0  NaN   2.2\n",
      "2   NaN    c   3.3\n",
      "3   4.0    d   NaN\n"
     ]
    }
   ],
   "source": [
    "# 指定要檢查的列名列表\n",
    "data3 = {'col1': [1, 2, np.nan, 4], \n",
    "        'col2': ['a', np.nan, 'c', 'd'], \n",
    "        'col3': [1.1, 2.2, 3.3, np.nan]}\n",
    "df3 = pd.DataFrame(data3)\n",
    "print(\"\\n原始 DataFrame3：\")\n",
    "print(df3)"
   ]
  },
  {
   "cell_type": "code",
   "execution_count": null,
   "metadata": {},
   "outputs": [
    {
     "name": "stdout",
     "output_type": "stream",
     "text": [
      "\n",
      "刪除col1或col3包含NaN的列後的 DataFrame3：\n",
      "   col1 col2  col3\n",
      "0   1.0    a   1.1\n",
      "1   2.0  NaN   2.2\n"
     ]
    }
   ],
   "source": [
    "df3_cleaned = df3.dropna(subset=['col1','col3']) # 只刪除 col1 或 col3 包含 NaN 的列\n",
    "print(\"\\n刪除col1或col3包含NaN的列後的 DataFrame3：\")\n",
    "print(df3_cleaned)"
   ]
  },
  {
   "cell_type": "code",
   "execution_count": 13,
   "metadata": {},
   "outputs": [
    {
     "name": "stdout",
     "output_type": "stream",
     "text": [
      "原始 DataFrame：\n",
      "   col1 col2  col3\n",
      "0   1.0    a   NaN\n",
      "1   2.0  NaN   NaN\n",
      "2   NaN    c   NaN\n",
      "3   4.0    d   NaN\n"
     ]
    }
   ],
   "source": [
    "# 建立一個包含 NaN 的 DataFrame\n",
    "data = {'col1': [1, 2, np.nan, 4], \n",
    "        'col2': ['a', np.nan, 'c', 'd'], \n",
    "        'col3': [np.nan, np.nan, np.nan, np.nan]}\n",
    "df = pd.DataFrame(data)\n",
    "\n",
    "print(\"原始 DataFrame：\")\n",
    "print(df)"
   ]
  },
  {
   "cell_type": "code",
   "execution_count": 14,
   "metadata": {},
   "outputs": [
    {
     "name": "stdout",
     "output_type": "stream",
     "text": [
      "\n",
      "刪除包含 NaN 的欄後的 DataFrame：\n",
      "Empty DataFrame\n",
      "Columns: []\n",
      "Index: [0, 1, 2, 3]\n"
     ]
    }
   ],
   "source": [
    "# 刪除任何包含 NaN 的欄\n",
    "df_cleaned = df.dropna(axis='columns')  # 或 axis='columns'\n",
    "print(\"\\n刪除包含 NaN 的欄後的 DataFrame：\")\n",
    "print(df_cleaned)"
   ]
  },
  {
   "cell_type": "code",
   "execution_count": 18,
   "metadata": {},
   "outputs": [
    {
     "name": "stdout",
     "output_type": "stream",
     "text": [
      "   col1  col2\n",
      "A    10    40\n",
      "B    20    50\n",
      "C    30    60\n"
     ]
    }
   ],
   "source": [
    "data = {'col1': [10,20,30],'col2': [40,50,60]}\n",
    "df = pd.DataFrame(data,index=['A','B','C'])\n",
    "print(df)"
   ]
  },
  {
   "cell_type": "code",
   "execution_count": 22,
   "metadata": {},
   "outputs": [
    {
     "data": {
      "text/html": [
       "<div>\n",
       "<style scoped>\n",
       "    .dataframe tbody tr th:only-of-type {\n",
       "        vertical-align: middle;\n",
       "    }\n",
       "\n",
       "    .dataframe tbody tr th {\n",
       "        vertical-align: top;\n",
       "    }\n",
       "\n",
       "    .dataframe thead th {\n",
       "        text-align: right;\n",
       "    }\n",
       "</style>\n",
       "<table border=\"1\" class=\"dataframe\">\n",
       "  <thead>\n",
       "    <tr style=\"text-align: right;\">\n",
       "      <th></th>\n",
       "      <th>col2</th>\n",
       "      <th>col1</th>\n",
       "    </tr>\n",
       "  </thead>\n",
       "  <tbody>\n",
       "    <tr>\n",
       "      <th>A</th>\n",
       "      <td>40</td>\n",
       "      <td>10</td>\n",
       "    </tr>\n",
       "    <tr>\n",
       "      <th>B</th>\n",
       "      <td>50</td>\n",
       "      <td>20</td>\n",
       "    </tr>\n",
       "    <tr>\n",
       "      <th>C</th>\n",
       "      <td>60</td>\n",
       "      <td>30</td>\n",
       "    </tr>\n",
       "  </tbody>\n",
       "</table>\n",
       "</div>"
      ],
      "text/plain": [
       "   col2  col1\n",
       "A    40    10\n",
       "B    50    20\n",
       "C    60    30"
      ]
     },
     "execution_count": 22,
     "metadata": {},
     "output_type": "execute_result"
    }
   ],
   "source": [
    "df_n = df.reindex(columns=['col2','col1'])\n",
    "df_n\n"
   ]
  }
 ],
 "metadata": {
  "kernelspec": {
   "display_name": "base",
   "language": "python",
   "name": "python3"
  },
  "language_info": {
   "codemirror_mode": {
    "name": "ipython",
    "version": 3
   },
   "file_extension": ".py",
   "mimetype": "text/x-python",
   "name": "python",
   "nbconvert_exporter": "python",
   "pygments_lexer": "ipython3",
   "version": "3.12.9"
  }
 },
 "nbformat": 4,
 "nbformat_minor": 2
}
