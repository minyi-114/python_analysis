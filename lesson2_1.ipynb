{
 "cells": [
  {
   "cell_type": "code",
   "execution_count": 35,
   "metadata": {},
   "outputs": [
    {
     "name": "stdout",
     "output_type": "stream",
     "text": [
      "4-7-8.1-hello.\n",
      "3+5+8\n",
      "~\n",
      "4+5+9\n",
      "\n",
      "9+9=18\n"
     ]
    }
   ],
   "source": [
    "print(4,7,8.1,'hello',end='.\\n',sep='-')\n",
    "print(\"3+5+8\")\n",
    "print(end=\"~\\n\")\n",
    "print(\"4+5+9\")\n",
    "print()\n",
    "print(\"9+9=18\")"
   ]
  },
  {
   "cell_type": "code",
   "execution_count": 27,
   "metadata": {},
   "outputs": [
    {
     "name": "stdout",
     "output_type": "stream",
     "text": [
      "<class 'str'>\n"
     ]
    }
   ],
   "source": [
    "x=input('請輸入x的值')\n",
    "print(type(x))\n",
    "result = float(x)+10\n",
    "radius = float(input('請輸入半徑:'))"
   ]
  },
  {
   "cell_type": "code",
   "execution_count": 12,
   "metadata": {},
   "outputs": [
    {
     "name": "stdout",
     "output_type": "stream",
     "text": [
      "6\n",
      "17\n"
     ]
    }
   ],
   "source": [
    "n=1+5\n",
    "m=n+5\n",
    "print(n)\n",
    "print(n+m)"
   ]
  },
  {
   "cell_type": "code",
   "execution_count": 7,
   "metadata": {},
   "outputs": [
    {
     "name": "stdout",
     "output_type": "stream",
     "text": [
      "10\n",
      "20\n"
     ]
    }
   ],
   "source": [
    "print(2*(1+2)**2-2**2*2)\n",
    "print( (2+3)*4 )"
   ]
  }
 ],
 "metadata": {
  "kernelspec": {
   "display_name": "base",
   "language": "python",
   "name": "python3"
  },
  "language_info": {
   "codemirror_mode": {
    "name": "ipython",
    "version": 3
   },
   "file_extension": ".py",
   "mimetype": "text/x-python",
   "name": "python",
   "nbconvert_exporter": "python",
   "pygments_lexer": "ipython3",
   "version": "3.12.2"
  }
 },
 "nbformat": 4,
 "nbformat_minor": 2
}
