{
 "cells": [
  {
   "cell_type": "code",
   "execution_count": 35,
   "metadata": {},
   "outputs": [
    {
     "name": "stdout",
     "output_type": "stream",
     "text": [
      "4-7-8.1-hello.\n",
      "3+5+8\n",
      "~\n",
      "4+5+9\n",
      "\n",
      "9+9=18\n"
     ]
    }
   ],
   "source": [
    "print(4,7,8.1,'hello',end='.\\n',sep='-')\n",
    "print(\"3+5+8\")\n",
    "print(end=\"~\\n\")\n",
    "print(\"4+5+9\")\n",
    "print()\n",
    "print(\"9+9=18\")"
   ]
  },
  {
   "cell_type": "code",
   "execution_count": 37,
   "metadata": {},
   "outputs": [
    {
     "name": "stdout",
     "output_type": "stream",
     "text": [
      "<class 'str'>\n"
     ]
    }
   ],
   "source": [
    "x=input('請輸入x的值')\n",
    "print(type(x))\n",
    "result = float(x)+10"
   ]
  },
  {
   "cell_type": "code",
   "execution_count": 39,
   "metadata": {},
   "outputs": [
    {
     "name": "stdout",
     "output_type": "stream",
     "text": [
      "半徑: 6.0\n",
      "直徑: 12.0\n",
      "圓周長: 37.699111902\n",
      "圓面積: 113.097335706\n"
     ]
    }
   ],
   "source": [
    "radius = float(input('請輸入半徑:'))\n",
    "diameter = 2 * radius\n",
    "pi = 3.1415926585\n",
    "circumference = 2 * pi * radius\n",
    "area = pi * radius ** 2\n",
    "print('半徑:',radius)\n",
    "print('直徑:',diameter)\n",
    "print('圓周長:',circumference)\n",
    "print('圓面積:',area)"
   ]
  },
  {
   "cell_type": "code",
   "execution_count": 40,
   "metadata": {},
   "outputs": [
    {
     "name": "stdout",
     "output_type": "stream",
     "text": [
      "對邊: 3.0\n",
      "鄰邊: 4.0\n",
      "斜邊: 5.0\n"
     ]
    }
   ],
   "source": [
    "import math\n",
    "side = float(input('請輸入對邊:'))\n",
    "another_side = float(input('請輸入鄰邊:'))\n",
    "each_side = math.sqrt(side**2+another_side**2)\n",
    "print('對邊:',side)\n",
    "print('鄰邊:',another_side)\n",
    "print('斜邊:',each_side)"
   ]
  },
  {
   "cell_type": "code",
   "execution_count": 12,
   "metadata": {},
   "outputs": [
    {
     "name": "stdout",
     "output_type": "stream",
     "text": [
      "6\n",
      "17\n"
     ]
    }
   ],
   "source": [
    "n=1+5\n",
    "m=n+5\n",
    "print(n)\n",
    "print(n+m)"
   ]
  },
  {
   "cell_type": "code",
   "execution_count": 7,
   "metadata": {},
   "outputs": [
    {
     "name": "stdout",
     "output_type": "stream",
     "text": [
      "10\n",
      "20\n"
     ]
    }
   ],
   "source": [
    "print(2*(1+2)**2-2**2*2)\n",
    "print( (2+3)*4 )"
   ]
  }
 ],
 "metadata": {
  "kernelspec": {
   "display_name": "base",
   "language": "python",
   "name": "python3"
  },
  "language_info": {
   "codemirror_mode": {
    "name": "ipython",
    "version": 3
   },
   "file_extension": ".py",
   "mimetype": "text/x-python",
   "name": "python",
   "nbconvert_exporter": "python",
   "pygments_lexer": "ipython3",
   "version": "3.12.2"
  }
 },
 "nbformat": 4,
 "nbformat_minor": 2
}
