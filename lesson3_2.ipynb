{
 "cells": [
  {
   "cell_type": "code",
   "execution_count": 15,
   "metadata": {},
   "outputs": [
    {
     "ename": "NameError",
     "evalue": "name 'p1' is not defined",
     "output_type": "error",
     "traceback": [
      "\u001b[0;31m---------------------------------------------------------------------------\u001b[0m",
      "\u001b[0;31mNameError\u001b[0m                                 Traceback (most recent call last)",
      "Cell \u001b[0;32mIn[15], line 1\u001b[0m\n\u001b[0;32m----> 1\u001b[0m \u001b[43mp1\u001b[49m\n",
      "\u001b[0;31mNameError\u001b[0m: name 'p1' is not defined"
     ]
    }
   ],
   "source": [
    "p1"
   ]
  },
  {
   "cell_type": "markdown",
   "metadata": {},
   "source": [
    "- 如何依順序取出'串列資列'和'映射資料'的元素值\n",
    "- for_in迴圈"
   ]
  },
  {
   "cell_type": "code",
   "execution_count": 16,
   "metadata": {},
   "outputs": [
    {
     "name": "stdout",
     "output_type": "stream",
     "text": [
      "蘋果\n",
      "香蕉\n",
      "橘子\n"
     ]
    }
   ],
   "source": [
    "fruits = ['蘋果','香蕉','橘子']\n",
    "for fruit in fruits:\n",
    "    print(fruit)"
   ]
  },
  {
   "cell_type": "code",
   "execution_count": 19,
   "metadata": {},
   "outputs": [
    {
     "name": "stdout",
     "output_type": "stream",
     "text": [
      "(0, '蘋果')\n",
      "(1, '香蕉')\n",
      "(2, '橘子')\n"
     ]
    }
   ],
   "source": [
    "for fruit in enumerate(fruits):\n",
    " print(fruit)"
   ]
  },
  {
   "cell_type": "code",
   "execution_count": 20,
   "metadata": {},
   "outputs": [
    {
     "name": "stdout",
     "output_type": "stream",
     "text": [
      "0->蘋果\n",
      "=========\n",
      "1->香蕉\n",
      "=========\n",
      "2->橘子\n",
      "=========\n"
     ]
    }
   ],
   "source": [
    "for index,fruit in enumerate(fruits):\n",
    "    print(index,fruit,sep='->')\n",
    "    print(\"=========\")"
   ]
  },
  {
   "cell_type": "code",
   "execution_count": 21,
   "metadata": {},
   "outputs": [
    {
     "name": "stdout",
     "output_type": "stream",
     "text": [
      "Taipei: 台北\n",
      "New Taipei: 新北市\n",
      "Taoyuan: 桃園\n",
      "Taichung: 台中\n",
      "Tainan: 台南\n",
      "Kaohsiung: 高雄\n",
      "Keelung: 基隆\n",
      "Hsinchu: 新竹\n",
      "Chiayi: 嘉義\n",
      "Hualien: 花蓮\n"
     ]
    }
   ],
   "source": [
    "cities = {\n",
    "    'Taipei': '台北',\n",
    "    'New Taipei': '新北市',\n",
    "    'Taoyuan': '桃園',\n",
    "    'Taichung': '台中',\n",
    "    'Tainan': '台南',\n",
    "    'Kaohsiung': '高雄',\n",
    "    'Keelung': '基隆',\n",
    "    'Hsinchu': '新竹',\n",
    "    'Chiayi': '嘉義',\n",
    "    'Hualien': '花蓮'\n",
    "}\n",
    "for key, value in cities.items():\n",
    "    print(f\"{key}: {value}\")"
   ]
  },
  {
   "cell_type": "code",
   "execution_count": null,
   "metadata": {},
   "outputs": [],
   "source": [
    "import random\n",
    "#請建立一個學生(students)的dictionary，格式如下:\n",
    "#{'name': 'value', 'chinese':78, 'english':98, 'math':67, 'history':87, 'health':76}\n",
    "#請使用list幫我建立50個學生\n",
    "\n",
    "# Function to generate a random name\n",
    "def generate_name():\n",
    "    first_names = ['王', '李', '張', '劉', '陳']\n",
    "    last_names = ['偉', '芳', '娜', '敏', '靜']\n",
    "    return random.choice(first_names) + random.choice(last_names)\n",
    "\n",
    "# Function to generate a student dictionary\n",
    "def generate_student():\n",
    "    return {\n",
    "        'name': generate_name(),\n",
    "        'chinese': random.randint(60, 100),\n",
    "        'english': random.randint(60, 100),\n",
    "        'math': random.randint(60, 100),\n",
    "        'history': random.randint(60, 100),\n",
    "        'health': random.randint(60, 100)\n",
    "    }\n",
    "\n",
    "# Generate a list of 50 students\n",
    "students = [generate_student() for _ in range(50)]\n",
    "students = [\n",
    "    {'name': '王偉', 'chinese': 78, 'english': 98, 'math': 67, 'history': 87, 'health': 76},\n",
    "    {'name': '李芳', 'chinese': 88, 'english': 92, 'math': 77, 'history': 85, 'health': 79},\n",
    "    {'name': '張娜', 'chinese': 90, 'english': 85, 'math': 80, 'history': 88, 'health': 82},\n",
    "    {'name': '劉敏', 'chinese': 76, 'english': 89, 'math': 70, 'history': 90, 'health': 75},\n",
    "    {'name': '陳靜', 'chinese': 85, 'english': 91, 'math': 78, 'history': 86, 'health': 80},\n",
    "    {'name': '王芳', 'chinese': 82, 'english': 87, 'math': 75, 'history': 84, 'health': 78},\n",
    "    {'name': '李娜', 'chinese': 79, 'english': 90, 'math': 72, 'history': 89, 'health': 77},\n",
    "    {'name': '張敏', 'chinese': 88, 'english': 93, 'math': 81, 'history': 91, 'health': 83},\n",
    "    {'name': '劉靜', 'chinese': 77, 'english': 86, 'math': 69, 'history': 88, 'health': 74},\n",
    "    {'name': '陳偉', 'chinese': 84, 'english': 89, 'math': 76, 'history': 85, 'health': 79},\n",
    "    {'name': '王娜', 'chinese': 81, 'english': 88, 'math': 74, 'history': 87, 'health': 77},\n",
    "    {'name': '李敏', 'chinese': 78, 'english': 91, 'math': 71, 'history': 90, 'health': 76},\n",
    "    {'name': '張靜', 'chinese': 87, 'english': 94, 'math': 80, 'history': 92, 'health': 82},\n",
    "    {'name': '劉偉', 'chinese': 76, 'english': 87, 'math': 68, 'history': 89, 'health': 73},\n",
    "    {'name': '陳芳', 'chinese': 83, 'english': 90, 'math': 75, 'history': 86, 'health': 78},\n",
    "    {'name': '王敏', 'chinese': 80, 'english': 89, 'math': 73, 'history': 88, 'health': 76},\n",
    "    {'name': '李靜', 'chinese': 77, 'english': 92, 'math': 70, 'history': 91, 'health': 75},\n",
    "    {'name': '張偉', 'chinese': 86, 'english': 95, 'math': 79, 'history': 93, 'health': 81},\n",
    "    {'name': '劉芳', 'chinese': 75, 'english': 88, 'math': 67, 'history': 90, 'health': 72},\n",
    "    {'name': '陳娜', 'chinese': 82, 'english': 91, 'math': 74, 'history': 87, 'health': 77},\n",
    "    {'name': '王靜', 'chinese': 79, 'english': 90, 'math': 72, 'history': 89, 'health': 76},\n",
    "    {'name': '李偉', 'chinese': 88, 'english': 93, 'math': 81, 'history': 91, 'health': 83},\n",
    "    {'name': '張芳', 'chinese': 77, 'english': 86, 'math': 69, 'history': 88, 'health': 74},\n",
    "    {'name': '劉娜', 'chinese': 84, 'english': 89, 'math': 76, 'history': 85, 'health': 79},\n",
    "    {'name': '陳敏', 'chinese': 81, 'english': 88, 'math': 74, 'history': 87, 'health': 77},\n",
    "    {'name': '王偉', 'chinese': 78, 'english': 91, 'math': 71, 'history': 90, 'health': 76},\n",
    "    {'name': '李芳', 'chinese': 87, 'english': 94, 'math': 80, 'history': 92, 'health': 82},\n",
    "    {'name': '張娜', 'chinese': 76, 'english': 87, 'math': 68, 'history': 89, 'health': 73},\n",
    "    {'name': '劉敏', 'chinese': 83, 'english': 90, 'math': 75, 'history': 86, 'health': 78},\n",
    "    {'name': '陳靜', 'chinese': 80, 'english': 89, 'math': 73, 'history': 88, 'health': 76},\n",
    "    {'name': '王芳', 'chinese': 77, 'english': 92, 'math': 70, 'history': 91, 'health': 75},\n",
    "    {'name': '李娜', 'chinese': 86, 'english': 95, 'math': 79, 'history': 93, 'health': 81},\n",
    "    {'name': '張敏', 'chinese': 75, 'english': 88, 'math': 67, 'history': 90, 'health': 72},\n",
    "    {'name': '劉靜', 'chinese': 82, 'english': 91, 'math': 74, 'history': 87, 'health': 77},\n",
    "    {'name': '陳偉', 'chinese': 79, 'english': 90, 'math': 72, 'history': 89, 'health': 76},\n",
    "    {'name': '王娜', 'chinese': 88, 'english': 93, 'math': 81, 'history': 91, 'health': 83},\n",
    "    {'name': '李敏', 'chinese': 77, 'english': 86, 'math': 69, 'history': 88, 'health': 74},\n",
    "    {'name': '張靜', 'chinese': 84, 'english': 89, 'math': 76, 'history': 85, 'health': 79},\n",
    "    {'name': '劉偉', 'chinese': 81, 'english': 88, 'math': 74, 'history': 87, 'health': 77},\n",
    "    {'name': '陳芳', 'chinese': 78, 'english': 91, 'math': 71, 'history': 90, 'health': 76},\n",
    "    {'name': '王敏', 'chinese': 87, 'english': 94, 'math': 80, 'history': 92, 'health': 82},\n",
    "    {'name': '李靜', 'chinese': 76, 'english': 87, 'math': 68, 'history': 89, 'health': 73},\n",
    "    {'name': '張偉', 'chinese': 83, 'english': 90, 'math': 75, 'history': 86, 'health': 78},\n",
    "    {'name': '劉芳', 'chinese': 80, 'english': 89, 'math': 73, 'history': 88, 'health': 76},\n",
    "    {'name': '陳娜', 'chinese': 77, 'english': 92, 'math': 70, 'history': 91, 'health': 75},\n",
    "    {'name': '王靜', 'chinese': 86, 'english': 95, 'math': 79, 'history': 93, 'health': 81},\n",
    "    {'name': '李偉', 'chinese': 75, 'english': 88, 'math': 67, 'history': 90, 'health': 72},\n",
    "    {'name': '張芳', 'chinese': 82, 'english': 91, 'math': 74, 'history': 87, 'health': 77}\n",
    "]"
   ]
  },
  {
   "cell_type": "code",
   "execution_count": 27,
   "metadata": {},
   "outputs": [
    {
     "data": {
      "text/plain": [
       "[{'name': 'student1',\n",
       "  'chinese': 98,\n",
       "  'english': 76,\n",
       "  'math': 98,\n",
       "  'history': 73,\n",
       "  'health': 50},\n",
       " {'name': 'student2',\n",
       "  'chinese': 54,\n",
       "  'english': 97,\n",
       "  'math': 78,\n",
       "  'history': 51,\n",
       "  'health': 75},\n",
       " {'name': 'student3',\n",
       "  'chinese': 64,\n",
       "  'english': 97,\n",
       "  'math': 97,\n",
       "  'history': 65,\n",
       "  'health': 70},\n",
       " {'name': 'student4',\n",
       "  'chinese': 80,\n",
       "  'english': 58,\n",
       "  'math': 65,\n",
       "  'history': 80,\n",
       "  'health': 72},\n",
       " {'name': 'student5',\n",
       "  'chinese': 80,\n",
       "  'english': 73,\n",
       "  'math': 78,\n",
       "  'history': 64,\n",
       "  'health': 82},\n",
       " {'name': 'student6',\n",
       "  'chinese': 56,\n",
       "  'english': 88,\n",
       "  'math': 70,\n",
       "  'history': 90,\n",
       "  'health': 95},\n",
       " {'name': 'student7',\n",
       "  'chinese': 93,\n",
       "  'english': 77,\n",
       "  'math': 63,\n",
       "  'history': 59,\n",
       "  'health': 96},\n",
       " {'name': 'student8',\n",
       "  'chinese': 63,\n",
       "  'english': 97,\n",
       "  'math': 77,\n",
       "  'history': 53,\n",
       "  'health': 70},\n",
       " {'name': 'student9',\n",
       "  'chinese': 82,\n",
       "  'english': 95,\n",
       "  'math': 71,\n",
       "  'history': 86,\n",
       "  'health': 88},\n",
       " {'name': 'student10',\n",
       "  'chinese': 70,\n",
       "  'english': 52,\n",
       "  'math': 64,\n",
       "  'history': 85,\n",
       "  'health': 77},\n",
       " {'name': 'student11',\n",
       "  'chinese': 75,\n",
       "  'english': 59,\n",
       "  'math': 79,\n",
       "  'history': 95,\n",
       "  'health': 57},\n",
       " {'name': 'student12',\n",
       "  'chinese': 97,\n",
       "  'english': 84,\n",
       "  'math': 76,\n",
       "  'history': 67,\n",
       "  'health': 67},\n",
       " {'name': 'student13',\n",
       "  'chinese': 81,\n",
       "  'english': 57,\n",
       "  'math': 70,\n",
       "  'history': 90,\n",
       "  'health': 99},\n",
       " {'name': 'student14',\n",
       "  'chinese': 65,\n",
       "  'english': 62,\n",
       "  'math': 82,\n",
       "  'history': 84,\n",
       "  'health': 62},\n",
       " {'name': 'student15',\n",
       "  'chinese': 75,\n",
       "  'english': 92,\n",
       "  'math': 82,\n",
       "  'history': 89,\n",
       "  'health': 67},\n",
       " {'name': 'student16',\n",
       "  'chinese': 54,\n",
       "  'english': 71,\n",
       "  'math': 62,\n",
       "  'history': 76,\n",
       "  'health': 52},\n",
       " {'name': 'student17',\n",
       "  'chinese': 86,\n",
       "  'english': 59,\n",
       "  'math': 54,\n",
       "  'history': 86,\n",
       "  'health': 54},\n",
       " {'name': 'student18',\n",
       "  'chinese': 96,\n",
       "  'english': 95,\n",
       "  'math': 53,\n",
       "  'history': 60,\n",
       "  'health': 80},\n",
       " {'name': 'student19',\n",
       "  'chinese': 74,\n",
       "  'english': 95,\n",
       "  'math': 84,\n",
       "  'history': 59,\n",
       "  'health': 53},\n",
       " {'name': 'student20',\n",
       "  'chinese': 78,\n",
       "  'english': 50,\n",
       "  'math': 73,\n",
       "  'history': 87,\n",
       "  'health': 71},\n",
       " {'name': 'student21',\n",
       "  'chinese': 55,\n",
       "  'english': 78,\n",
       "  'math': 61,\n",
       "  'history': 51,\n",
       "  'health': 69},\n",
       " {'name': 'student22',\n",
       "  'chinese': 50,\n",
       "  'english': 67,\n",
       "  'math': 52,\n",
       "  'history': 56,\n",
       "  'health': 73},\n",
       " {'name': 'student23',\n",
       "  'chinese': 52,\n",
       "  'english': 100,\n",
       "  'math': 69,\n",
       "  'history': 97,\n",
       "  'health': 98},\n",
       " {'name': 'student24',\n",
       "  'chinese': 76,\n",
       "  'english': 67,\n",
       "  'math': 73,\n",
       "  'history': 73,\n",
       "  'health': 71},\n",
       " {'name': 'student25',\n",
       "  'chinese': 92,\n",
       "  'english': 88,\n",
       "  'math': 84,\n",
       "  'history': 52,\n",
       "  'health': 66},\n",
       " {'name': 'student26',\n",
       "  'chinese': 82,\n",
       "  'english': 55,\n",
       "  'math': 69,\n",
       "  'history': 61,\n",
       "  'health': 76},\n",
       " {'name': 'student27',\n",
       "  'chinese': 56,\n",
       "  'english': 95,\n",
       "  'math': 99,\n",
       "  'history': 73,\n",
       "  'health': 99},\n",
       " {'name': 'student28',\n",
       "  'chinese': 74,\n",
       "  'english': 67,\n",
       "  'math': 72,\n",
       "  'history': 59,\n",
       "  'health': 61},\n",
       " {'name': 'student29',\n",
       "  'chinese': 74,\n",
       "  'english': 95,\n",
       "  'math': 99,\n",
       "  'history': 79,\n",
       "  'health': 60},\n",
       " {'name': 'student30',\n",
       "  'chinese': 69,\n",
       "  'english': 68,\n",
       "  'math': 83,\n",
       "  'history': 70,\n",
       "  'health': 64},\n",
       " {'name': 'student31',\n",
       "  'chinese': 55,\n",
       "  'english': 81,\n",
       "  'math': 60,\n",
       "  'history': 83,\n",
       "  'health': 69},\n",
       " {'name': 'student32',\n",
       "  'chinese': 54,\n",
       "  'english': 59,\n",
       "  'math': 84,\n",
       "  'history': 72,\n",
       "  'health': 60},\n",
       " {'name': 'student33',\n",
       "  'chinese': 92,\n",
       "  'english': 81,\n",
       "  'math': 57,\n",
       "  'history': 59,\n",
       "  'health': 84},\n",
       " {'name': 'student34',\n",
       "  'chinese': 51,\n",
       "  'english': 67,\n",
       "  'math': 55,\n",
       "  'history': 64,\n",
       "  'health': 99},\n",
       " {'name': 'student35',\n",
       "  'chinese': 51,\n",
       "  'english': 68,\n",
       "  'math': 57,\n",
       "  'history': 81,\n",
       "  'health': 88},\n",
       " {'name': 'student36',\n",
       "  'chinese': 67,\n",
       "  'english': 70,\n",
       "  'math': 83,\n",
       "  'history': 75,\n",
       "  'health': 59},\n",
       " {'name': 'student37',\n",
       "  'chinese': 93,\n",
       "  'english': 88,\n",
       "  'math': 51,\n",
       "  'history': 54,\n",
       "  'health': 88},\n",
       " {'name': 'student38',\n",
       "  'chinese': 55,\n",
       "  'english': 62,\n",
       "  'math': 87,\n",
       "  'history': 96,\n",
       "  'health': 61},\n",
       " {'name': 'student39',\n",
       "  'chinese': 87,\n",
       "  'english': 89,\n",
       "  'math': 75,\n",
       "  'history': 76,\n",
       "  'health': 61},\n",
       " {'name': 'student40',\n",
       "  'chinese': 54,\n",
       "  'english': 67,\n",
       "  'math': 76,\n",
       "  'history': 70,\n",
       "  'health': 93},\n",
       " {'name': 'student41',\n",
       "  'chinese': 55,\n",
       "  'english': 52,\n",
       "  'math': 97,\n",
       "  'history': 92,\n",
       "  'health': 57},\n",
       " {'name': 'student42',\n",
       "  'chinese': 85,\n",
       "  'english': 78,\n",
       "  'math': 66,\n",
       "  'history': 51,\n",
       "  'health': 78},\n",
       " {'name': 'student43',\n",
       "  'chinese': 88,\n",
       "  'english': 72,\n",
       "  'math': 85,\n",
       "  'history': 70,\n",
       "  'health': 73},\n",
       " {'name': 'student44',\n",
       "  'chinese': 51,\n",
       "  'english': 82,\n",
       "  'math': 56,\n",
       "  'history': 59,\n",
       "  'health': 52},\n",
       " {'name': 'student45',\n",
       "  'chinese': 83,\n",
       "  'english': 87,\n",
       "  'math': 81,\n",
       "  'history': 74,\n",
       "  'health': 90},\n",
       " {'name': 'student46',\n",
       "  'chinese': 79,\n",
       "  'english': 87,\n",
       "  'math': 92,\n",
       "  'history': 74,\n",
       "  'health': 86},\n",
       " {'name': 'student47',\n",
       "  'chinese': 93,\n",
       "  'english': 73,\n",
       "  'math': 96,\n",
       "  'history': 83,\n",
       "  'health': 60},\n",
       " {'name': 'student48',\n",
       "  'chinese': 83,\n",
       "  'english': 61,\n",
       "  'math': 95,\n",
       "  'history': 100,\n",
       "  'health': 89},\n",
       " {'name': 'student49',\n",
       "  'chinese': 55,\n",
       "  'english': 67,\n",
       "  'math': 96,\n",
       "  'history': 57,\n",
       "  'health': 51},\n",
       " {'name': 'student50',\n",
       "  'chinese': 78,\n",
       "  'english': 85,\n",
       "  'math': 54,\n",
       "  'history': 50,\n",
       "  'health': 90}]"
      ]
     },
     "execution_count": 27,
     "metadata": {},
     "output_type": "execute_result"
    }
   ],
   "source": [
    "import random\n",
    "students=[]\n",
    "for i in range(1,51):\n",
    "    students.append(\n",
    "       {'name':f'student{i}',\n",
    "        'chinese': random.randint(50,100),\n",
    "        'english': random.randint(50,100),\n",
    "        'math': random.randint(50,100),\n",
    "        'history': random.randint(50,100),\n",
    "        'health': random.randint(50,100)\n",
    "     } \n",
    "    )\n",
    "\n",
    "students"
   ]
  },
  {
   "cell_type": "code",
   "execution_count": 14,
   "metadata": {},
   "outputs": [],
   "source": [
    "del p1"
   ]
  },
  {
   "cell_type": "code",
   "execution_count": 13,
   "metadata": {},
   "outputs": [
    {
     "data": {
      "text/plain": [
       "{'name': '謝旻宜'}"
      ]
     },
     "execution_count": 13,
     "metadata": {},
     "output_type": "execute_result"
    }
   ],
   "source": [
    "p1"
   ]
  },
  {
   "cell_type": "code",
   "execution_count": 12,
   "metadata": {},
   "outputs": [
    {
     "data": {
      "text/plain": [
       "40"
      ]
     },
     "execution_count": 12,
     "metadata": {},
     "output_type": "execute_result"
    }
   ],
   "source": [
    "del p1['city']\n",
    "p1.pop('age')"
   ]
  },
  {
   "cell_type": "code",
   "execution_count": 24,
   "metadata": {},
   "outputs": [
    {
     "name": "stdout",
     "output_type": "stream",
     "text": [
      "謝旻宜\n",
      "40\n"
     ]
    },
    {
     "data": {
      "text/plain": [
       "['謝旻宜', 40, 'new taipei city']"
      ]
     },
     "execution_count": 24,
     "metadata": {},
     "output_type": "execute_result"
    }
   ],
   "source": [
    "print(p1['name'])\n",
    "print(p1.get('age'))\n",
    "list(p1.values())"
   ]
  },
  {
   "cell_type": "code",
   "execution_count": 22,
   "metadata": {},
   "outputs": [
    {
     "data": {
      "text/plain": [
       "{'name': '謝旻宜', 'age': 40, 'city': 'new taipei city'}"
      ]
     },
     "execution_count": 22,
     "metadata": {},
     "output_type": "execute_result"
    }
   ],
   "source": [
    "p1 = {'name': '謝旻宜', 'age': 40, 'city': 'new taipei city'}\n",
    "p1"
   ]
  }
 ],
 "metadata": {
  "kernelspec": {
   "display_name": "base",
   "language": "python",
   "name": "python3"
  },
  "language_info": {
   "codemirror_mode": {
    "name": "ipython",
    "version": 3
   },
   "file_extension": ".py",
   "mimetype": "text/x-python",
   "name": "python",
   "nbconvert_exporter": "python",
   "pygments_lexer": "ipython3",
   "version": "3.12.2"
  }
 },
 "nbformat": 4,
 "nbformat_minor": 2
}
