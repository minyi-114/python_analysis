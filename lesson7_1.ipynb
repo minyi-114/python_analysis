{
 "cells": [
  {
   "cell_type": "code",
   "execution_count": null,
   "metadata": {},
   "outputs": [],
   "source": [
    "import requests\n",
    "from requests import Response\n",
    "url = 'https://rate.bot.com.tw/xrt?Lang=zh-Tw'\n",
    "response = requests.get(url)\n",
    "print(response.text)"
   ]
  },
  {
   "cell_type": "code",
   "execution_count": null,
   "metadata": {},
   "outputs": [],
   "source": [
    "from bs4 import BeautifulSoup\n",
    "soup = BeautifulSoup(response.text, 'html.parser')\n",
    "\n",
    "# 尋找帶有特定 title 屬性的表格\n",
    "rate_table = soup.find('table', {'title': '牌告匯率'})\n",
    "\n",
    "# 印出表格內容\n",
    "print(rate_table)"
   ]
  },
  {
   "cell_type": "code",
   "execution_count": null,
   "metadata": {},
   "outputs": [],
   "source": [
    "from bs4 import BeautifulSoup\n",
    "soup = BeautifulSoup(response.text, 'html.parser')\n",
    "\n",
    "# 尋找帶有特定 title 屬性的表格\n",
    "rate_table = soup.find('table', {'title': '牌告匯率'})\n",
    "\n",
    "# 取得所有幣別和現金匯率資料\n",
    "currency_rows = rate_table.tbody.find_all('tr')  # 跳過表頭行\n",
    "\n",
    "rates:list[dict] = []\n",
    "\n",
    "for row in currency_rows:\n",
    "    currency_dict = {}\n",
    "    # 取得行中的幣別資料\n",
    "    currency = row.find(\"div\", class_=\"visible-phone print_hide\").text.strip()\n",
    "    currency_dict[\"幣別\"] = currency\n",
    "\n",
    "    # 取得現金買入匯率\n",
    "    currency_get = row.find(\"td\", attrs={\"data-table\": \"本行現金買入\"}).text.strip()\n",
    "    currency_dict[\"現金買入\"] = currency_get\n",
    "\n",
    "    # 取得現金賣出匯率\n",
    "    currency_send = row.find(\"td\", attrs={\"data-table\": \"本行現金賣出\"}).text.strip()\n",
    "    currency_dict[\"現金賣出\"] = currency_send\n",
    "\n",
    "    # 印出資料\n",
    "    # print(f\"幣別: {currency}, 現金買入: {currency_get}, 現金賣出: {currency_send}\")\n",
    "    # print(\"========\")\n",
    "\n",
    "    # 將資料加入陣列\n",
    "    rates.append(currency_dict)\n",
    "\n",
    "print(rates)"
   ]
  },
  {
   "cell_type": "code",
   "execution_count": null,
   "metadata": {},
   "outputs": [],
   "source": [
    "def filter_func(item:dict) -> bool:\n",
    "    if item[\"現金買入\"] == \"-\":\n",
    "        return False\n",
    "    else:\n",
    "        return True\n",
    "    \n",
    "filtered_rates = list(filter(filter_func, rates))\n",
    "filtered_rates"
   ]
  },
  {
   "cell_type": "code",
   "execution_count": null,
   "metadata": {},
   "outputs": [],
   "source": [
    "def map_func(item:dict):\n",
    "    item[\"現金買入\"] = float(item[\"現金買入\"])\n",
    "    item[\"現金賣出\"] = float(item[\"現金賣出\"])\n",
    "    return item\n",
    "\n",
    "cleared_list = list(map(map_func, filtered_rates))\n",
    "cleared_list"
   ]
  },
  {
   "cell_type": "code",
   "execution_count": null,
   "metadata": {},
   "outputs": [],
   "source": [
    "import pandas as pd\n",
    "# 將匯率資料轉換為 DataFrame\n",
    "df = pd.DataFrame(rates)\n",
    "dff = pd.DataFrame(cleared_list)  # dff.to_csv('cashrates.csv')\n",
    "# 依照現金買入匯率遞減排序\n",
    "dff = dff.sort_values(by=\"現金買入\", ascending=False) \n",
    "# 轉置表格 df.T\n",
    "dff"
   ]
  },
  {
   "cell_type": "code",
   "execution_count": null,
   "metadata": {},
   "outputs": [],
   "source": [
    "df['幣別'].apply(lambda x: x.split()[-1])"
   ]
  },
  {
   "cell_type": "code",
   "execution_count": null,
   "metadata": {},
   "outputs": [],
   "source": [
    "import wget\n",
    "wget.download('https://github.com/roberthsu2003/__2025_01_04_chihlee__/raw/refs/heads/main/ChineseFont.ttf')"
   ]
  },
  {
   "cell_type": "code",
   "execution_count": null,
   "metadata": {},
   "outputs": [],
   "source": [
    "import matplotlib.pyplot as plt\n",
    "from matplotlib.font_manager import fontManager \n",
    "import matplotlib as mlp\n",
    "fontManager.addfont('ChineseFont.ttf')\n",
    "mlp.rc('font', family='ChineseFont')\n",
    "\n",
    "# 1.製作figure\n",
    "fig = plt.figure(figsize=(10, 5))\n",
    "ax_1 = fig.add_subplot(1, 1, 1)\n",
    "ax_1.bar(df['幣別'].apply(lambda x: x.split()[-1]),df['現金買入'])\n",
    "ax_1.set_title('貨幣買賣匯率')\n",
    "ax_1.set_xlabel('貨幣')\n",
    "ax_1.set_ylabel('匯率(NTD)')\n",
    "plt.show()"
   ]
  }
 ],
 "metadata": {
  "kernelspec": {
   "display_name": "base",
   "language": "python",
   "name": "python3"
  },
  "language_info": {
   "codemirror_mode": {
    "name": "ipython",
    "version": 3
   },
   "file_extension": ".py",
   "mimetype": "text/x-python",
   "name": "python",
   "nbconvert_exporter": "python",
   "pygments_lexer": "ipython3",
   "version": "3.12.9"
  }
 },
 "nbformat": 4,
 "nbformat_minor": 2
}
