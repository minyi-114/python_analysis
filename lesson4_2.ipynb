{
  "cells": [
    {
      "cell_type": "markdown",
      "metadata": {
        "colab_type": "text",
        "id": "view-in-github"
      },
      "source": [
        "<a href=\"https://colab.research.google.com/github/minyi-114/python_analysis/blob/main/lesson4_2.ipynb\" target=\"_parent\"><img src=\"https://colab.research.google.com/assets/colab-badge.svg\" alt=\"Open In Colab\"/></a>"
      ]
    },
    {
      "cell_type": "code",
      "execution_count": 1,
      "metadata": {
        "id": "umeNYc-6oy-6"
      },
      "outputs": [],
      "source": [
        "file = open(file='students.csv',encoding='utf-8')\n",
        "file.close()"
      ]
    },
    {
      "cell_type": "code",
      "execution_count": 2,
      "metadata": {
        "id": "6OeDO56-xZkq"
      },
      "outputs": [
        {
          "name": "stdout",
          "output_type": "stream",
          "text": [
            "name,chinese,english,math,history,health\n",
            "student1,93,73,79,62,65\n",
            "student2,81,80,62,61,75\n",
            "student3,57,77,95,75,54\n",
            "student4,72,58,66,69,97\n",
            "student5,72,75,83,69,89\n",
            "student6,77,84,91,95,59\n",
            "student7,67,62,95,75,91\n",
            "student8,72,73,73,97,61\n",
            "student9,66,83,86,70,73\n",
            "student10,92,73,77,88,80\n",
            "student11,63,74,95,67,96\n",
            "student12,52,53,54,58,74\n",
            "student13,56,81,94,98,59\n",
            "student14,92,96,97,62,95\n",
            "student15,98,65,56,51,61\n",
            "student16,93,67,54,68,71\n",
            "student17,56,73,96,86,79\n",
            "student18,88,77,56,100,78\n",
            "student19,64,59,80,59,66\n",
            "student20,54,91,68,59,55\n",
            "student21,75,93,100,100,53\n",
            "student22,94,85,51,62,64\n",
            "student23,81,55,99,83,56\n",
            "student24,96,93,88,75,62\n",
            "student25,64,55,75,79,78\n",
            "student26,93,63,68,90,92\n",
            "student27,93,94,56,80,60\n",
            "student28,79,91,52,54,71\n",
            "student29,83,88,60,93,96\n",
            "student30,90,94,54,56,62\n",
            "student31,100,95,79,55,64\n",
            "student32,87,61,99,62,82\n",
            "student33,87,63,59,58,78\n",
            "student34,67,60,99,58,65\n",
            "student35,82,86,80,55,57\n",
            "student36,73,65,82,73,98\n",
            "student37,76,89,86,86,92\n",
            "student38,90,85,51,95,63\n",
            "student39,90,65,71,98,68\n",
            "student40,97,70,99,50,79\n",
            "student41,100,58,51,90,55\n",
            "student42,81,69,80,52,57\n",
            "student43,54,99,76,73,60\n",
            "student44,87,77,77,70,84\n",
            "student45,72,54,89,68,66\n",
            "student46,75,86,78,58,63\n",
            "student47,78,99,82,64,59\n",
            "student48,78,52,71,64,89\n",
            "student49,100,71,50,95,54\n",
            "student50,63,95,72,80,56\n",
            "\n"
          ]
        }
      ],
      "source": [
        "with open('students.csv','r') as file:\n",
        "  content:str = file.read()\n",
        "print(content)"
      ]
    },
    {
      "cell_type": "code",
      "execution_count": 3,
      "metadata": {
        "id": "84GuNRSuyVZS"
      },
      "outputs": [
        {
          "name": "stdout",
          "output_type": "stream",
          "text": [
            "['name,chinese,english,math,history,health\\n', 'student1,93,73,79,62,65\\n', 'student2,81,80,62,61,75\\n', 'student3,57,77,95,75,54\\n', 'student4,72,58,66,69,97\\n', 'student5,72,75,83,69,89\\n', 'student6,77,84,91,95,59\\n', 'student7,67,62,95,75,91\\n', 'student8,72,73,73,97,61\\n', 'student9,66,83,86,70,73\\n', 'student10,92,73,77,88,80\\n', 'student11,63,74,95,67,96\\n', 'student12,52,53,54,58,74\\n', 'student13,56,81,94,98,59\\n', 'student14,92,96,97,62,95\\n', 'student15,98,65,56,51,61\\n', 'student16,93,67,54,68,71\\n', 'student17,56,73,96,86,79\\n', 'student18,88,77,56,100,78\\n', 'student19,64,59,80,59,66\\n', 'student20,54,91,68,59,55\\n', 'student21,75,93,100,100,53\\n', 'student22,94,85,51,62,64\\n', 'student23,81,55,99,83,56\\n', 'student24,96,93,88,75,62\\n', 'student25,64,55,75,79,78\\n', 'student26,93,63,68,90,92\\n', 'student27,93,94,56,80,60\\n', 'student28,79,91,52,54,71\\n', 'student29,83,88,60,93,96\\n', 'student30,90,94,54,56,62\\n', 'student31,100,95,79,55,64\\n', 'student32,87,61,99,62,82\\n', 'student33,87,63,59,58,78\\n', 'student34,67,60,99,58,65\\n', 'student35,82,86,80,55,57\\n', 'student36,73,65,82,73,98\\n', 'student37,76,89,86,86,92\\n', 'student38,90,85,51,95,63\\n', 'student39,90,65,71,98,68\\n', 'student40,97,70,99,50,79\\n', 'student41,100,58,51,90,55\\n', 'student42,81,69,80,52,57\\n', 'student43,54,99,76,73,60\\n', 'student44,87,77,77,70,84\\n', 'student45,72,54,89,68,66\\n', 'student46,75,86,78,58,63\\n', 'student47,78,99,82,64,59\\n', 'student48,78,52,71,64,89\\n', 'student49,100,71,50,95,54\\n', 'student50,63,95,72,80,56\\n']\n"
          ]
        }
      ],
      "source": [
        "with open(file='students.csv',encoding='utf-8') as file:\n",
        "  lines:list[str] = file.readlines()\n",
        "  print(lines)"
      ]
    },
    {
      "cell_type": "code",
      "execution_count": 4,
      "metadata": {
        "id": "AbrqiHQFzs_W"
      },
      "outputs": [
        {
          "name": "stdout",
          "output_type": "stream",
          "text": [
            "['name', 'chinese', 'english', 'math', 'history', 'health']\n",
            "['student1', '93', '73', '79', '62', '65']\n",
            "['student2', '81', '80', '62', '61', '75']\n",
            "['student3', '57', '77', '95', '75', '54']\n",
            "['student4', '72', '58', '66', '69', '97']\n",
            "['student5', '72', '75', '83', '69', '89']\n",
            "['student6', '77', '84', '91', '95', '59']\n",
            "['student7', '67', '62', '95', '75', '91']\n",
            "['student8', '72', '73', '73', '97', '61']\n",
            "['student9', '66', '83', '86', '70', '73']\n",
            "['student10', '92', '73', '77', '88', '80']\n",
            "['student11', '63', '74', '95', '67', '96']\n",
            "['student12', '52', '53', '54', '58', '74']\n",
            "['student13', '56', '81', '94', '98', '59']\n",
            "['student14', '92', '96', '97', '62', '95']\n",
            "['student15', '98', '65', '56', '51', '61']\n",
            "['student16', '93', '67', '54', '68', '71']\n",
            "['student17', '56', '73', '96', '86', '79']\n",
            "['student18', '88', '77', '56', '100', '78']\n",
            "['student19', '64', '59', '80', '59', '66']\n",
            "['student20', '54', '91', '68', '59', '55']\n",
            "['student21', '75', '93', '100', '100', '53']\n",
            "['student22', '94', '85', '51', '62', '64']\n",
            "['student23', '81', '55', '99', '83', '56']\n",
            "['student24', '96', '93', '88', '75', '62']\n",
            "['student25', '64', '55', '75', '79', '78']\n",
            "['student26', '93', '63', '68', '90', '92']\n",
            "['student27', '93', '94', '56', '80', '60']\n",
            "['student28', '79', '91', '52', '54', '71']\n",
            "['student29', '83', '88', '60', '93', '96']\n",
            "['student30', '90', '94', '54', '56', '62']\n",
            "['student31', '100', '95', '79', '55', '64']\n",
            "['student32', '87', '61', '99', '62', '82']\n",
            "['student33', '87', '63', '59', '58', '78']\n",
            "['student34', '67', '60', '99', '58', '65']\n",
            "['student35', '82', '86', '80', '55', '57']\n",
            "['student36', '73', '65', '82', '73', '98']\n",
            "['student37', '76', '89', '86', '86', '92']\n",
            "['student38', '90', '85', '51', '95', '63']\n",
            "['student39', '90', '65', '71', '98', '68']\n",
            "['student40', '97', '70', '99', '50', '79']\n",
            "['student41', '100', '58', '51', '90', '55']\n",
            "['student42', '81', '69', '80', '52', '57']\n",
            "['student43', '54', '99', '76', '73', '60']\n",
            "['student44', '87', '77', '77', '70', '84']\n",
            "['student45', '72', '54', '89', '68', '66']\n",
            "['student46', '75', '86', '78', '58', '63']\n",
            "['student47', '78', '99', '82', '64', '59']\n",
            "['student48', '78', '52', '71', '64', '89']\n",
            "['student49', '100', '71', '50', '95', '54']\n",
            "['student50', '63', '95', '72', '80', '56']\n"
          ]
        }
      ],
      "source": [
        "import csv\n",
        "with open(file='students.csv',encoding='utf-8') as file:\n",
        "  reader = csv.reader(file)\n",
        "  for line in reader:\n",
        "    print(line)"
      ]
    },
    {
      "cell_type": "code",
      "execution_count": 5,
      "metadata": {
        "id": "vX9guJCF1xup"
      },
      "outputs": [
        {
          "name": "stdout",
          "output_type": "stream",
          "text": [
            "['student1', '93', '73', '79', '62', '65']\n",
            "['student2', '81', '80', '62', '61', '75']\n",
            "['student3', '57', '77', '95', '75', '54']\n",
            "['student4', '72', '58', '66', '69', '97']\n",
            "['student5', '72', '75', '83', '69', '89']\n",
            "['student6', '77', '84', '91', '95', '59']\n",
            "['student7', '67', '62', '95', '75', '91']\n",
            "['student8', '72', '73', '73', '97', '61']\n",
            "['student9', '66', '83', '86', '70', '73']\n",
            "['student10', '92', '73', '77', '88', '80']\n",
            "['student11', '63', '74', '95', '67', '96']\n",
            "['student12', '52', '53', '54', '58', '74']\n",
            "['student13', '56', '81', '94', '98', '59']\n",
            "['student14', '92', '96', '97', '62', '95']\n",
            "['student15', '98', '65', '56', '51', '61']\n",
            "['student16', '93', '67', '54', '68', '71']\n",
            "['student17', '56', '73', '96', '86', '79']\n",
            "['student18', '88', '77', '56', '100', '78']\n",
            "['student19', '64', '59', '80', '59', '66']\n",
            "['student20', '54', '91', '68', '59', '55']\n",
            "['student21', '75', '93', '100', '100', '53']\n",
            "['student22', '94', '85', '51', '62', '64']\n",
            "['student23', '81', '55', '99', '83', '56']\n",
            "['student24', '96', '93', '88', '75', '62']\n",
            "['student25', '64', '55', '75', '79', '78']\n",
            "['student26', '93', '63', '68', '90', '92']\n",
            "['student27', '93', '94', '56', '80', '60']\n",
            "['student28', '79', '91', '52', '54', '71']\n",
            "['student29', '83', '88', '60', '93', '96']\n",
            "['student30', '90', '94', '54', '56', '62']\n",
            "['student31', '100', '95', '79', '55', '64']\n",
            "['student32', '87', '61', '99', '62', '82']\n",
            "['student33', '87', '63', '59', '58', '78']\n",
            "['student34', '67', '60', '99', '58', '65']\n",
            "['student35', '82', '86', '80', '55', '57']\n",
            "['student36', '73', '65', '82', '73', '98']\n",
            "['student37', '76', '89', '86', '86', '92']\n",
            "['student38', '90', '85', '51', '95', '63']\n",
            "['student39', '90', '65', '71', '98', '68']\n",
            "['student40', '97', '70', '99', '50', '79']\n",
            "['student41', '100', '58', '51', '90', '55']\n",
            "['student42', '81', '69', '80', '52', '57']\n",
            "['student43', '54', '99', '76', '73', '60']\n",
            "['student44', '87', '77', '77', '70', '84']\n",
            "['student45', '72', '54', '89', '68', '66']\n",
            "['student46', '75', '86', '78', '58', '63']\n",
            "['student47', '78', '99', '82', '64', '59']\n",
            "['student48', '78', '52', '71', '64', '89']\n",
            "['student49', '100', '71', '50', '95', '54']\n",
            "['student50', '63', '95', '72', '80', '56']\n"
          ]
        }
      ],
      "source": [
        "import csv\n",
        "with open(file='students.csv',encoding='utf-8') as file:\n",
        "  reader = csv.reader(file)\n",
        "  next(reader) #跳過標題列\n",
        "  studentx:list=list(reader)\n",
        "\n",
        "studentx\n",
        "\n",
        "for students in studentx:\n",
        "  print(students)\n"
      ]
    },
    {
      "cell_type": "code",
      "execution_count": 12,
      "metadata": {
        "id": "IbA5YxiC24xw"
      },
      "outputs": [
        {
          "name": "stdout",
          "output_type": "stream",
          "text": [
            "['student20', '54', '91', '68', '59', '55']\n"
          ]
        }
      ],
      "source": [
        "for students in studentx:\n",
        "  if students[0] == 'student20':\n",
        "    print(students)"
      ]
    }
  ],
  "metadata": {
    "colab": {
      "authorship_tag": "ABX9TyNjNfE36Nt6zQo2/twAu6S7",
      "include_colab_link": true,
      "provenance": []
    },
    "kernelspec": {
      "display_name": "base",
      "language": "python",
      "name": "python3"
    },
    "language_info": {
      "codemirror_mode": {
        "name": "ipython",
        "version": 3
      },
      "file_extension": ".py",
      "mimetype": "text/x-python",
      "name": "python",
      "nbconvert_exporter": "python",
      "pygments_lexer": "ipython3",
      "version": "3.12.8"
    }
  },
  "nbformat": 4,
  "nbformat_minor": 0
}
