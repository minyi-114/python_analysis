{
  "nbformat": 4,
  "nbformat_minor": 0,
  "metadata": {
    "colab": {
      "provenance": [],
      "authorship_tag": "ABX9TyNjNfE36Nt6zQo2/twAu6S7",
      "include_colab_link": true
    },
    "kernelspec": {
      "name": "python3",
      "display_name": "Python 3"
    },
    "language_info": {
      "name": "python"
    }
  },
  "cells": [
    {
      "cell_type": "markdown",
      "metadata": {
        "id": "view-in-github",
        "colab_type": "text"
      },
      "source": [
        "<a href=\"https://colab.research.google.com/github/minyi-114/python_analysis/blob/main/lesson4_2.ipynb\" target=\"_parent\"><img src=\"https://colab.research.google.com/assets/colab-badge.svg\" alt=\"Open In Colab\"/></a>"
      ]
    },
    {
      "cell_type": "code",
      "execution_count": null,
      "metadata": {
        "id": "umeNYc-6oy-6"
      },
      "outputs": [],
      "source": [
        "file = open(file='students.csv',encoding='utf-8')\n",
        "file.close()"
      ]
    },
    {
      "cell_type": "code",
      "source": [
        "with open('students.csv','r') as file:\n",
        "  content:str = file.read()\n",
        "print(content)"
      ],
      "metadata": {
        "id": "6OeDO56-xZkq"
      },
      "execution_count": null,
      "outputs": []
    },
    {
      "cell_type": "code",
      "source": [
        "with open(file='students.csv',encoding='utf-8') as file:\n",
        "  lines:list[str] = file.readlines()\n",
        "  print(lines)"
      ],
      "metadata": {
        "id": "84GuNRSuyVZS"
      },
      "execution_count": null,
      "outputs": []
    },
    {
      "cell_type": "code",
      "source": [
        "import csv\n",
        "with open(file='students.csv',encoding='utf-8') as file:\n",
        "  reader = csv.reader(file)\n",
        "  for line in reader:\n",
        "    print(line)"
      ],
      "metadata": {
        "id": "AbrqiHQFzs_W"
      },
      "execution_count": null,
      "outputs": []
    },
    {
      "cell_type": "code",
      "source": [
        "import csv\n",
        "with open(file='students.csv',encoding='utf-8') as file:\n",
        "  reader = csv.reader(file)\n",
        "  next(reader) #跳過標題列\n",
        "  studentx:list=list(reader)\n",
        "\n",
        "studentx\n",
        "\n",
        "for students in studentx:\n",
        "  print(students)\n"
      ],
      "metadata": {
        "id": "vX9guJCF1xup"
      },
      "execution_count": null,
      "outputs": []
    },
    {
      "cell_type": "code",
      "source": [
        "for students in studentx:\n",
        "  if students[0]== 'student20':\n",
        "  print(students)"
      ],
      "metadata": {
        "id": "IbA5YxiC24xw"
      },
      "execution_count": null,
      "outputs": []
    }
  ]
}