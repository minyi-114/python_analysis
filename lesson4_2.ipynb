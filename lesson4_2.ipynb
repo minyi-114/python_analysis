{
  "cells": [
    {
      "cell_type": "markdown",
      "metadata": {
        "colab_type": "text",
        "id": "view-in-github"
      },
      "source": [
        "<a href=\"https://colab.research.google.com/github/minyi-114/python_analysis/blob/main/lesson4_2.ipynb\" target=\"_parent\"><img src=\"https://colab.research.google.com/assets/colab-badge.svg\" alt=\"Open In Colab\"/></a>"
      ]
    },
    {
      "cell_type": "code",
      "execution_count": 17,
      "metadata": {
        "id": "umeNYc-6oy-6"
      },
      "outputs": [
        {
          "data": {
            "text/plain": [
              "_io.TextIOWrapper"
            ]
          },
          "execution_count": 17,
          "metadata": {},
          "output_type": "execute_result"
        }
      ],
      "source": [
        "file = open(file='students.csv',encoding='utf-8')\n",
        "file.close()\n",
        "type(file)"
      ]
    },
    {
      "cell_type": "code",
      "execution_count": 2,
      "metadata": {
        "id": "6OeDO56-xZkq"
      },
      "outputs": [
        {
          "name": "stdout",
          "output_type": "stream",
          "text": [
            "name,chinese,english,math,history,health\n",
            "student1,93,73,79,62,65\n",
            "student2,81,80,62,61,75\n",
            "student3,57,77,95,75,54\n",
            "student4,72,58,66,69,97\n",
            "student5,72,75,83,69,89\n",
            "student6,77,84,91,95,59\n",
            "student7,67,62,95,75,91\n",
            "student8,72,73,73,97,61\n",
            "student9,66,83,86,70,73\n",
            "student10,92,73,77,88,80\n",
            "student11,63,74,95,67,96\n",
            "student12,52,53,54,58,74\n",
            "student13,56,81,94,98,59\n",
            "student14,92,96,97,62,95\n",
            "student15,98,65,56,51,61\n",
            "student16,93,67,54,68,71\n",
            "student17,56,73,96,86,79\n",
            "student18,88,77,56,100,78\n",
            "student19,64,59,80,59,66\n",
            "student20,54,91,68,59,55\n",
            "student21,75,93,100,100,53\n",
            "student22,94,85,51,62,64\n",
            "student23,81,55,99,83,56\n",
            "student24,96,93,88,75,62\n",
            "student25,64,55,75,79,78\n",
            "student26,93,63,68,90,92\n",
            "student27,93,94,56,80,60\n",
            "student28,79,91,52,54,71\n",
            "student29,83,88,60,93,96\n",
            "student30,90,94,54,56,62\n",
            "student31,100,95,79,55,64\n",
            "student32,87,61,99,62,82\n",
            "student33,87,63,59,58,78\n",
            "student34,67,60,99,58,65\n",
            "student35,82,86,80,55,57\n",
            "student36,73,65,82,73,98\n",
            "student37,76,89,86,86,92\n",
            "student38,90,85,51,95,63\n",
            "student39,90,65,71,98,68\n",
            "student40,97,70,99,50,79\n",
            "student41,100,58,51,90,55\n",
            "student42,81,69,80,52,57\n",
            "student43,54,99,76,73,60\n",
            "student44,87,77,77,70,84\n",
            "student45,72,54,89,68,66\n",
            "student46,75,86,78,58,63\n",
            "student47,78,99,82,64,59\n",
            "student48,78,52,71,64,89\n",
            "student49,100,71,50,95,54\n",
            "student50,63,95,72,80,56\n",
            "\n"
          ]
        }
      ],
      "source": [
        "with open('students.csv','r') as file:\n",
        "  content:str = file.read()\n",
        "print(content)"
      ]
    },
    {
      "cell_type": "code",
      "execution_count": 3,
      "metadata": {
        "id": "84GuNRSuyVZS"
      },
      "outputs": [
        {
          "name": "stdout",
          "output_type": "stream",
          "text": [
            "['name,chinese,english,math,history,health\\n', 'student1,93,73,79,62,65\\n', 'student2,81,80,62,61,75\\n', 'student3,57,77,95,75,54\\n', 'student4,72,58,66,69,97\\n', 'student5,72,75,83,69,89\\n', 'student6,77,84,91,95,59\\n', 'student7,67,62,95,75,91\\n', 'student8,72,73,73,97,61\\n', 'student9,66,83,86,70,73\\n', 'student10,92,73,77,88,80\\n', 'student11,63,74,95,67,96\\n', 'student12,52,53,54,58,74\\n', 'student13,56,81,94,98,59\\n', 'student14,92,96,97,62,95\\n', 'student15,98,65,56,51,61\\n', 'student16,93,67,54,68,71\\n', 'student17,56,73,96,86,79\\n', 'student18,88,77,56,100,78\\n', 'student19,64,59,80,59,66\\n', 'student20,54,91,68,59,55\\n', 'student21,75,93,100,100,53\\n', 'student22,94,85,51,62,64\\n', 'student23,81,55,99,83,56\\n', 'student24,96,93,88,75,62\\n', 'student25,64,55,75,79,78\\n', 'student26,93,63,68,90,92\\n', 'student27,93,94,56,80,60\\n', 'student28,79,91,52,54,71\\n', 'student29,83,88,60,93,96\\n', 'student30,90,94,54,56,62\\n', 'student31,100,95,79,55,64\\n', 'student32,87,61,99,62,82\\n', 'student33,87,63,59,58,78\\n', 'student34,67,60,99,58,65\\n', 'student35,82,86,80,55,57\\n', 'student36,73,65,82,73,98\\n', 'student37,76,89,86,86,92\\n', 'student38,90,85,51,95,63\\n', 'student39,90,65,71,98,68\\n', 'student40,97,70,99,50,79\\n', 'student41,100,58,51,90,55\\n', 'student42,81,69,80,52,57\\n', 'student43,54,99,76,73,60\\n', 'student44,87,77,77,70,84\\n', 'student45,72,54,89,68,66\\n', 'student46,75,86,78,58,63\\n', 'student47,78,99,82,64,59\\n', 'student48,78,52,71,64,89\\n', 'student49,100,71,50,95,54\\n', 'student50,63,95,72,80,56\\n']\n"
          ]
        }
      ],
      "source": [
        "with open(file='students.csv',encoding='utf-8') as file:\n",
        "  lines:list[str] = file.readlines()\n",
        "  print(lines)"
      ]
    },
    {
      "cell_type": "code",
      "execution_count": 4,
      "metadata": {
        "id": "AbrqiHQFzs_W"
      },
      "outputs": [
        {
          "name": "stdout",
          "output_type": "stream",
          "text": [
            "['name', 'chinese', 'english', 'math', 'history', 'health']\n",
            "['student1', '93', '73', '79', '62', '65']\n",
            "['student2', '81', '80', '62', '61', '75']\n",
            "['student3', '57', '77', '95', '75', '54']\n",
            "['student4', '72', '58', '66', '69', '97']\n",
            "['student5', '72', '75', '83', '69', '89']\n",
            "['student6', '77', '84', '91', '95', '59']\n",
            "['student7', '67', '62', '95', '75', '91']\n",
            "['student8', '72', '73', '73', '97', '61']\n",
            "['student9', '66', '83', '86', '70', '73']\n",
            "['student10', '92', '73', '77', '88', '80']\n",
            "['student11', '63', '74', '95', '67', '96']\n",
            "['student12', '52', '53', '54', '58', '74']\n",
            "['student13', '56', '81', '94', '98', '59']\n",
            "['student14', '92', '96', '97', '62', '95']\n",
            "['student15', '98', '65', '56', '51', '61']\n",
            "['student16', '93', '67', '54', '68', '71']\n",
            "['student17', '56', '73', '96', '86', '79']\n",
            "['student18', '88', '77', '56', '100', '78']\n",
            "['student19', '64', '59', '80', '59', '66']\n",
            "['student20', '54', '91', '68', '59', '55']\n",
            "['student21', '75', '93', '100', '100', '53']\n",
            "['student22', '94', '85', '51', '62', '64']\n",
            "['student23', '81', '55', '99', '83', '56']\n",
            "['student24', '96', '93', '88', '75', '62']\n",
            "['student25', '64', '55', '75', '79', '78']\n",
            "['student26', '93', '63', '68', '90', '92']\n",
            "['student27', '93', '94', '56', '80', '60']\n",
            "['student28', '79', '91', '52', '54', '71']\n",
            "['student29', '83', '88', '60', '93', '96']\n",
            "['student30', '90', '94', '54', '56', '62']\n",
            "['student31', '100', '95', '79', '55', '64']\n",
            "['student32', '87', '61', '99', '62', '82']\n",
            "['student33', '87', '63', '59', '58', '78']\n",
            "['student34', '67', '60', '99', '58', '65']\n",
            "['student35', '82', '86', '80', '55', '57']\n",
            "['student36', '73', '65', '82', '73', '98']\n",
            "['student37', '76', '89', '86', '86', '92']\n",
            "['student38', '90', '85', '51', '95', '63']\n",
            "['student39', '90', '65', '71', '98', '68']\n",
            "['student40', '97', '70', '99', '50', '79']\n",
            "['student41', '100', '58', '51', '90', '55']\n",
            "['student42', '81', '69', '80', '52', '57']\n",
            "['student43', '54', '99', '76', '73', '60']\n",
            "['student44', '87', '77', '77', '70', '84']\n",
            "['student45', '72', '54', '89', '68', '66']\n",
            "['student46', '75', '86', '78', '58', '63']\n",
            "['student47', '78', '99', '82', '64', '59']\n",
            "['student48', '78', '52', '71', '64', '89']\n",
            "['student49', '100', '71', '50', '95', '54']\n",
            "['student50', '63', '95', '72', '80', '56']\n"
          ]
        }
      ],
      "source": [
        "import csv\n",
        "with open(file='students.csv',encoding='utf-8') as file:\n",
        "  reader = csv.reader(file)\n",
        "  for line in reader:\n",
        "    print(line)"
      ]
    },
    {
      "cell_type": "code",
      "execution_count": null,
      "metadata": {
        "id": "vX9guJCF1xup"
      },
      "outputs": [
        {
          "name": "stdout",
          "output_type": "stream",
          "text": [
            "['student1', '93', '73', '79', '62', '65']\n",
            "['student2', '81', '80', '62', '61', '75']\n",
            "['student3', '57', '77', '95', '75', '54']\n",
            "['student4', '72', '58', '66', '69', '97']\n",
            "['student5', '72', '75', '83', '69', '89']\n",
            "['student6', '77', '84', '91', '95', '59']\n",
            "['student7', '67', '62', '95', '75', '91']\n",
            "['student8', '72', '73', '73', '97', '61']\n",
            "['student9', '66', '83', '86', '70', '73']\n",
            "['student10', '92', '73', '77', '88', '80']\n",
            "['student11', '63', '74', '95', '67', '96']\n",
            "['student12', '52', '53', '54', '58', '74']\n",
            "['student13', '56', '81', '94', '98', '59']\n",
            "['student14', '92', '96', '97', '62', '95']\n",
            "['student15', '98', '65', '56', '51', '61']\n",
            "['student16', '93', '67', '54', '68', '71']\n",
            "['student17', '56', '73', '96', '86', '79']\n",
            "['student18', '88', '77', '56', '100', '78']\n",
            "['student19', '64', '59', '80', '59', '66']\n",
            "['student20', '54', '91', '68', '59', '55']\n",
            "['student21', '75', '93', '100', '100', '53']\n",
            "['student22', '94', '85', '51', '62', '64']\n",
            "['student23', '81', '55', '99', '83', '56']\n",
            "['student24', '96', '93', '88', '75', '62']\n",
            "['student25', '64', '55', '75', '79', '78']\n",
            "['student26', '93', '63', '68', '90', '92']\n",
            "['student27', '93', '94', '56', '80', '60']\n",
            "['student28', '79', '91', '52', '54', '71']\n",
            "['student29', '83', '88', '60', '93', '96']\n",
            "['student30', '90', '94', '54', '56', '62']\n",
            "['student31', '100', '95', '79', '55', '64']\n",
            "['student32', '87', '61', '99', '62', '82']\n",
            "['student33', '87', '63', '59', '58', '78']\n",
            "['student34', '67', '60', '99', '58', '65']\n",
            "['student35', '82', '86', '80', '55', '57']\n",
            "['student36', '73', '65', '82', '73', '98']\n",
            "['student37', '76', '89', '86', '86', '92']\n",
            "['student38', '90', '85', '51', '95', '63']\n",
            "['student39', '90', '65', '71', '98', '68']\n",
            "['student40', '97', '70', '99', '50', '79']\n",
            "['student41', '100', '58', '51', '90', '55']\n",
            "['student42', '81', '69', '80', '52', '57']\n",
            "['student43', '54', '99', '76', '73', '60']\n",
            "['student44', '87', '77', '77', '70', '84']\n",
            "['student45', '72', '54', '89', '68', '66']\n",
            "['student46', '75', '86', '78', '58', '63']\n",
            "['student47', '78', '99', '82', '64', '59']\n",
            "['student48', '78', '52', '71', '64', '89']\n",
            "['student49', '100', '71', '50', '95', '54']\n",
            "['student50', '63', '95', '72', '80', '56']\n"
          ]
        }
      ],
      "source": [
        "import csv\n",
        "with open(file='students.csv',encoding='utf-8') as file:\n",
        "  reader = csv.reader(file)\n",
        "  next(reader) #跳過標題列\n",
        "  studentx:list=list(reader)  # 讀入的資料為list\n",
        "\n",
        "studentx\n",
        "\n",
        "for students in studentx:\n",
        "  print(students)\n"
      ]
    },
    {
      "cell_type": "code",
      "execution_count": 14,
      "metadata": {
        "id": "IbA5YxiC24xw"
      },
      "outputs": [
        {
          "name": "stdout",
          "output_type": "stream",
          "text": [
            "['student20', '54', '91', '68', '59', '55']\n"
          ]
        }
      ],
      "source": [
        "for students in studentx:\n",
        "  if students[0] == 'student20':   # 提取符合條件的值\n",
        "    print(students)"
      ]
    },
    {
      "cell_type": "code",
      "execution_count": null,
      "metadata": {},
      "outputs": [
        {
          "name": "stdout",
          "output_type": "stream",
          "text": [
            "{'name': 'student1', 'chinese': '93', 'english': '73', 'math': '79', 'history': '62', 'health': '65'}\n",
            "{'name': 'student2', 'chinese': '81', 'english': '80', 'math': '62', 'history': '61', 'health': '75'}\n",
            "{'name': 'student3', 'chinese': '57', 'english': '77', 'math': '95', 'history': '75', 'health': '54'}\n",
            "{'name': 'student4', 'chinese': '72', 'english': '58', 'math': '66', 'history': '69', 'health': '97'}\n",
            "{'name': 'student5', 'chinese': '72', 'english': '75', 'math': '83', 'history': '69', 'health': '89'}\n",
            "{'name': 'student6', 'chinese': '77', 'english': '84', 'math': '91', 'history': '95', 'health': '59'}\n",
            "{'name': 'student7', 'chinese': '67', 'english': '62', 'math': '95', 'history': '75', 'health': '91'}\n",
            "{'name': 'student8', 'chinese': '72', 'english': '73', 'math': '73', 'history': '97', 'health': '61'}\n",
            "{'name': 'student9', 'chinese': '66', 'english': '83', 'math': '86', 'history': '70', 'health': '73'}\n",
            "{'name': 'student10', 'chinese': '92', 'english': '73', 'math': '77', 'history': '88', 'health': '80'}\n",
            "{'name': 'student11', 'chinese': '63', 'english': '74', 'math': '95', 'history': '67', 'health': '96'}\n",
            "{'name': 'student12', 'chinese': '52', 'english': '53', 'math': '54', 'history': '58', 'health': '74'}\n",
            "{'name': 'student13', 'chinese': '56', 'english': '81', 'math': '94', 'history': '98', 'health': '59'}\n",
            "{'name': 'student14', 'chinese': '92', 'english': '96', 'math': '97', 'history': '62', 'health': '95'}\n",
            "{'name': 'student15', 'chinese': '98', 'english': '65', 'math': '56', 'history': '51', 'health': '61'}\n",
            "{'name': 'student16', 'chinese': '93', 'english': '67', 'math': '54', 'history': '68', 'health': '71'}\n",
            "{'name': 'student17', 'chinese': '56', 'english': '73', 'math': '96', 'history': '86', 'health': '79'}\n",
            "{'name': 'student18', 'chinese': '88', 'english': '77', 'math': '56', 'history': '100', 'health': '78'}\n",
            "{'name': 'student19', 'chinese': '64', 'english': '59', 'math': '80', 'history': '59', 'health': '66'}\n",
            "{'name': 'student20', 'chinese': '54', 'english': '91', 'math': '68', 'history': '59', 'health': '55'}\n",
            "{'name': 'student21', 'chinese': '75', 'english': '93', 'math': '100', 'history': '100', 'health': '53'}\n",
            "{'name': 'student22', 'chinese': '94', 'english': '85', 'math': '51', 'history': '62', 'health': '64'}\n",
            "{'name': 'student23', 'chinese': '81', 'english': '55', 'math': '99', 'history': '83', 'health': '56'}\n",
            "{'name': 'student24', 'chinese': '96', 'english': '93', 'math': '88', 'history': '75', 'health': '62'}\n",
            "{'name': 'student25', 'chinese': '64', 'english': '55', 'math': '75', 'history': '79', 'health': '78'}\n",
            "{'name': 'student26', 'chinese': '93', 'english': '63', 'math': '68', 'history': '90', 'health': '92'}\n",
            "{'name': 'student27', 'chinese': '93', 'english': '94', 'math': '56', 'history': '80', 'health': '60'}\n",
            "{'name': 'student28', 'chinese': '79', 'english': '91', 'math': '52', 'history': '54', 'health': '71'}\n",
            "{'name': 'student29', 'chinese': '83', 'english': '88', 'math': '60', 'history': '93', 'health': '96'}\n",
            "{'name': 'student30', 'chinese': '90', 'english': '94', 'math': '54', 'history': '56', 'health': '62'}\n",
            "{'name': 'student31', 'chinese': '100', 'english': '95', 'math': '79', 'history': '55', 'health': '64'}\n",
            "{'name': 'student32', 'chinese': '87', 'english': '61', 'math': '99', 'history': '62', 'health': '82'}\n",
            "{'name': 'student33', 'chinese': '87', 'english': '63', 'math': '59', 'history': '58', 'health': '78'}\n",
            "{'name': 'student34', 'chinese': '67', 'english': '60', 'math': '99', 'history': '58', 'health': '65'}\n",
            "{'name': 'student35', 'chinese': '82', 'english': '86', 'math': '80', 'history': '55', 'health': '57'}\n",
            "{'name': 'student36', 'chinese': '73', 'english': '65', 'math': '82', 'history': '73', 'health': '98'}\n",
            "{'name': 'student37', 'chinese': '76', 'english': '89', 'math': '86', 'history': '86', 'health': '92'}\n",
            "{'name': 'student38', 'chinese': '90', 'english': '85', 'math': '51', 'history': '95', 'health': '63'}\n",
            "{'name': 'student39', 'chinese': '90', 'english': '65', 'math': '71', 'history': '98', 'health': '68'}\n",
            "{'name': 'student40', 'chinese': '97', 'english': '70', 'math': '99', 'history': '50', 'health': '79'}\n",
            "{'name': 'student41', 'chinese': '100', 'english': '58', 'math': '51', 'history': '90', 'health': '55'}\n",
            "{'name': 'student42', 'chinese': '81', 'english': '69', 'math': '80', 'history': '52', 'health': '57'}\n",
            "{'name': 'student43', 'chinese': '54', 'english': '99', 'math': '76', 'history': '73', 'health': '60'}\n",
            "{'name': 'student44', 'chinese': '87', 'english': '77', 'math': '77', 'history': '70', 'health': '84'}\n",
            "{'name': 'student45', 'chinese': '72', 'english': '54', 'math': '89', 'history': '68', 'health': '66'}\n",
            "{'name': 'student46', 'chinese': '75', 'english': '86', 'math': '78', 'history': '58', 'health': '63'}\n",
            "{'name': 'student47', 'chinese': '78', 'english': '99', 'math': '82', 'history': '64', 'health': '59'}\n",
            "{'name': 'student48', 'chinese': '78', 'english': '52', 'math': '71', 'history': '64', 'health': '89'}\n",
            "{'name': 'student49', 'chinese': '100', 'english': '71', 'math': '50', 'history': '95', 'health': '54'}\n",
            "{'name': 'student50', 'chinese': '63', 'english': '95', 'math': '72', 'history': '80', 'health': '56'}\n"
          ]
        }
      ],
      "source": [
        "import csv\n",
        "with open(file='students.csv',encoding='utf-8') as file:\n",
        "  reader = csv.DictReader(file)  # 讀入的資料為dictionary\n",
        "  studentx:list=list(reader)\n",
        "\n",
        "for students in studentx:\n",
        "  print(students)"
      ]
    },
    {
      "cell_type": "code",
      "execution_count": 19,
      "metadata": {},
      "outputs": [
        {
          "name": "stdout",
          "output_type": "stream",
          "text": [
            "{'name': 'student20', 'chinese': '54', 'english': '91', 'math': '68', 'history': '59', 'health': '55'}\n"
          ]
        }
      ],
      "source": [
        "for students in studentx:\n",
        "    if students['name'] == 'student20':\n",
        "        print(students)"
      ]
    }
  ],
  "metadata": {
    "colab": {
      "authorship_tag": "ABX9TyNjNfE36Nt6zQo2/twAu6S7",
      "include_colab_link": true,
      "provenance": []
    },
    "kernelspec": {
      "display_name": "base",
      "language": "python",
      "name": "python3"
    },
    "language_info": {
      "codemirror_mode": {
        "name": "ipython",
        "version": 3
      },
      "file_extension": ".py",
      "mimetype": "text/x-python",
      "name": "python",
      "nbconvert_exporter": "python",
      "pygments_lexer": "ipython3",
      "version": "3.12.8"
    }
  },
  "nbformat": 4,
  "nbformat_minor": 0
}
