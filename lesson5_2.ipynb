{
 "cells": [
  {
   "cell_type": "code",
   "execution_count": null,
   "metadata": {},
   "outputs": [
    {
     "data": {
      "text/plain": [
       "[81, 72, 68]"
      ]
     },
     "execution_count": 1,
     "metadata": {},
     "output_type": "execute_result"
    }
   ],
   "source": [
    "scores = [78,69,65]   # 原始分數\n",
    "new_scores=[]\n",
    "\n",
    "for score in scores:\n",
    "    new_scores.append(score + 3)    # 原始分數各加3分\n",
    "\n",
    "new_scores"
   ]
  },
  {
   "cell_type": "code",
   "execution_count": null,
   "metadata": {},
   "outputs": [
    {
     "data": {
      "text/plain": [
       "[81, 72, 68]"
      ]
     },
     "execution_count": 2,
     "metadata": {},
     "output_type": "execute_result"
    }
   ],
   "source": [
    "# list comprehention(快速建立list)\n",
    "scores = [78,69,65]\n",
    "new_scores = [score + 3 for score in scores]   #必需使用for in迴圈 \n",
    "new_scores"
   ]
  },
  {
   "cell_type": "code",
   "execution_count": 3,
   "metadata": {},
   "outputs": [
    {
     "data": {
      "text/plain": [
       "[78, 69, 65, 78, 69, 65]"
      ]
     },
     "execution_count": 3,
     "metadata": {},
     "output_type": "execute_result"
    }
   ],
   "source": [
    "scores = [78,69,65]\n",
    "scores * 2"
   ]
  },
  {
   "cell_type": "code",
   "execution_count": 4,
   "metadata": {},
   "outputs": [
    {
     "data": {
      "text/plain": [
       "[67, 92, 85, 78, 69, 65]"
      ]
     },
     "execution_count": 4,
     "metadata": {},
     "output_type": "execute_result"
    }
   ],
   "source": [
    "[67,92,85] + [78,69,65]"
   ]
  },
  {
   "cell_type": "code",
   "execution_count": 12,
   "metadata": {},
   "outputs": [
    {
     "name": "stdout",
     "output_type": "stream",
     "text": [
      "<class 'numpy.ndarray'>\n"
     ]
    }
   ],
   "source": [
    "import numpy as np\n",
    "\n",
    "scores = np.array([78, 69, 65])\n",
    "print(type(scores))\n",
    "new_scores = scores + 3"
   ]
  },
  {
   "cell_type": "code",
   "execution_count": null,
   "metadata": {},
   "outputs": [
    {
     "name": "stdout",
     "output_type": "stream",
     "text": [
      "212\n",
      "70.66666666666667\n",
      "5.436502143433363\n",
      "65\n",
      "78\n"
     ]
    },
    {
     "data": {
      "text/plain": [
       "np.float64(69.0)"
      ]
     },
     "execution_count": 14,
     "metadata": {},
     "output_type": "execute_result"
    }
   ],
   "source": [
    "#常用的統計指標\n",
    "print(scores.sum())   #總和\n",
    "print(scores.mean())  #平均數\n",
    "print(scores.std())   #標準差\n",
    "print(scores.min())   #最小值\n",
    "print(scores.max())   #最大值\n",
    "np.median(scores)     #中位數"
   ]
  },
  {
   "cell_type": "code",
   "execution_count": 17,
   "metadata": {},
   "outputs": [
    {
     "data": {
      "text/plain": [
       "array([[67, 94, 65],\n",
       "       [78, 92, 68],\n",
       "       [59, 92, 87]])"
      ]
     },
     "execution_count": 17,
     "metadata": {},
     "output_type": "execute_result"
    }
   ],
   "source": [
    "students = np.array([\n",
    "    [67,94,65],\n",
    "    [78,92,68],\n",
    "    [59,92,87]\n",
    "    ])\n",
    "students"
   ]
  },
  {
   "cell_type": "code",
   "execution_count": null,
   "metadata": {},
   "outputs": [
    {
     "data": {
      "text/plain": [
       "(2, 9, (3, 3))"
      ]
     },
     "execution_count": 20,
     "metadata": {},
     "output_type": "execute_result"
    }
   ],
   "source": [
    "# 常用的查詢屬性: 維度，元素數量，形狀(列數，欄數)\n",
    "students.ndim, students.size, students.shape"
   ]
  }
 ],
 "metadata": {
  "kernelspec": {
   "display_name": "base",
   "language": "python",
   "name": "python3"
  },
  "language_info": {
   "codemirror_mode": {
    "name": "ipython",
    "version": 3
   },
   "file_extension": ".py",
   "mimetype": "text/x-python",
   "name": "python",
   "nbconvert_exporter": "python",
   "pygments_lexer": "ipython3",
   "version": "3.12.9"
  }
 },
 "nbformat": 4,
 "nbformat_minor": 2
}
